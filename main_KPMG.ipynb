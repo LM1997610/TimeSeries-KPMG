{
  "nbformat": 4,
  "nbformat_minor": 0,
  "metadata": {
    "colab": {
      "provenance": [],
      "authorship_tag": "ABX9TyNOt8NDJOTxrbwexOoKzbF6",
      "include_colab_link": true
    },
    "kernelspec": {
      "name": "python3",
      "display_name": "Python 3"
    },
    "language_info": {
      "name": "python"
    },
    "widgets": {
      "application/vnd.jupyter.widget-state+json": {
        "063d9f2e97be42c1a35325be85df60eb": {
          "model_module": "@jupyter-widgets/controls",
          "model_name": "HBoxModel",
          "model_module_version": "1.5.0",
          "state": {
            "_dom_classes": [],
            "_model_module": "@jupyter-widgets/controls",
            "_model_module_version": "1.5.0",
            "_model_name": "HBoxModel",
            "_view_count": null,
            "_view_module": "@jupyter-widgets/controls",
            "_view_module_version": "1.5.0",
            "_view_name": "HBoxView",
            "box_style": "",
            "children": [
              "IPY_MODEL_3242015c625743efbff14696e122da34",
              "IPY_MODEL_4f205330c97546b1a5401a244cc0d078",
              "IPY_MODEL_82f49597fd1e451ab15b11a4affd0895"
            ],
            "layout": "IPY_MODEL_355392aebd0e4fe59cd3a30602072b9b"
          }
        },
        "3242015c625743efbff14696e122da34": {
          "model_module": "@jupyter-widgets/controls",
          "model_name": "HTMLModel",
          "model_module_version": "1.5.0",
          "state": {
            "_dom_classes": [],
            "_model_module": "@jupyter-widgets/controls",
            "_model_module_version": "1.5.0",
            "_model_name": "HTMLModel",
            "_view_count": null,
            "_view_module": "@jupyter-widgets/controls",
            "_view_module_version": "1.5.0",
            "_view_name": "HTMLView",
            "description": "",
            "description_tooltip": null,
            "layout": "IPY_MODEL_8cf9a311c95a4819bfbc4ec98bd1b870",
            "placeholder": "​",
            "style": "IPY_MODEL_540606dd22274c84a3a7e9ba082908dd",
            "value": "100%"
          }
        },
        "4f205330c97546b1a5401a244cc0d078": {
          "model_module": "@jupyter-widgets/controls",
          "model_name": "FloatProgressModel",
          "model_module_version": "1.5.0",
          "state": {
            "_dom_classes": [],
            "_model_module": "@jupyter-widgets/controls",
            "_model_module_version": "1.5.0",
            "_model_name": "FloatProgressModel",
            "_view_count": null,
            "_view_module": "@jupyter-widgets/controls",
            "_view_module_version": "1.5.0",
            "_view_name": "ProgressView",
            "bar_style": "success",
            "description": "",
            "description_tooltip": null,
            "layout": "IPY_MODEL_3bcfaf591aac4ddc96e35acef9d56f23",
            "max": 48,
            "min": 0,
            "orientation": "horizontal",
            "style": "IPY_MODEL_7b437496df7d4c9b94d75b2e367241ba",
            "value": 48
          }
        },
        "82f49597fd1e451ab15b11a4affd0895": {
          "model_module": "@jupyter-widgets/controls",
          "model_name": "HTMLModel",
          "model_module_version": "1.5.0",
          "state": {
            "_dom_classes": [],
            "_model_module": "@jupyter-widgets/controls",
            "_model_module_version": "1.5.0",
            "_model_name": "HTMLModel",
            "_view_count": null,
            "_view_module": "@jupyter-widgets/controls",
            "_view_module_version": "1.5.0",
            "_view_name": "HTMLView",
            "description": "",
            "description_tooltip": null,
            "layout": "IPY_MODEL_cead5ee32f354b7088be8071315a8c47",
            "placeholder": "​",
            "style": "IPY_MODEL_c0e6d6786d6a4edeb1d4b7bdb5388c1d",
            "value": " 48/48 [00:15&lt;00:00,  4.35it/s]"
          }
        },
        "355392aebd0e4fe59cd3a30602072b9b": {
          "model_module": "@jupyter-widgets/base",
          "model_name": "LayoutModel",
          "model_module_version": "1.2.0",
          "state": {
            "_model_module": "@jupyter-widgets/base",
            "_model_module_version": "1.2.0",
            "_model_name": "LayoutModel",
            "_view_count": null,
            "_view_module": "@jupyter-widgets/base",
            "_view_module_version": "1.2.0",
            "_view_name": "LayoutView",
            "align_content": null,
            "align_items": null,
            "align_self": null,
            "border": null,
            "bottom": null,
            "display": null,
            "flex": null,
            "flex_flow": null,
            "grid_area": null,
            "grid_auto_columns": null,
            "grid_auto_flow": null,
            "grid_auto_rows": null,
            "grid_column": null,
            "grid_gap": null,
            "grid_row": null,
            "grid_template_areas": null,
            "grid_template_columns": null,
            "grid_template_rows": null,
            "height": null,
            "justify_content": null,
            "justify_items": null,
            "left": null,
            "margin": null,
            "max_height": null,
            "max_width": null,
            "min_height": null,
            "min_width": null,
            "object_fit": null,
            "object_position": null,
            "order": null,
            "overflow": null,
            "overflow_x": null,
            "overflow_y": null,
            "padding": null,
            "right": null,
            "top": null,
            "visibility": null,
            "width": null
          }
        },
        "8cf9a311c95a4819bfbc4ec98bd1b870": {
          "model_module": "@jupyter-widgets/base",
          "model_name": "LayoutModel",
          "model_module_version": "1.2.0",
          "state": {
            "_model_module": "@jupyter-widgets/base",
            "_model_module_version": "1.2.0",
            "_model_name": "LayoutModel",
            "_view_count": null,
            "_view_module": "@jupyter-widgets/base",
            "_view_module_version": "1.2.0",
            "_view_name": "LayoutView",
            "align_content": null,
            "align_items": null,
            "align_self": null,
            "border": null,
            "bottom": null,
            "display": null,
            "flex": null,
            "flex_flow": null,
            "grid_area": null,
            "grid_auto_columns": null,
            "grid_auto_flow": null,
            "grid_auto_rows": null,
            "grid_column": null,
            "grid_gap": null,
            "grid_row": null,
            "grid_template_areas": null,
            "grid_template_columns": null,
            "grid_template_rows": null,
            "height": null,
            "justify_content": null,
            "justify_items": null,
            "left": null,
            "margin": null,
            "max_height": null,
            "max_width": null,
            "min_height": null,
            "min_width": null,
            "object_fit": null,
            "object_position": null,
            "order": null,
            "overflow": null,
            "overflow_x": null,
            "overflow_y": null,
            "padding": null,
            "right": null,
            "top": null,
            "visibility": null,
            "width": null
          }
        },
        "540606dd22274c84a3a7e9ba082908dd": {
          "model_module": "@jupyter-widgets/controls",
          "model_name": "DescriptionStyleModel",
          "model_module_version": "1.5.0",
          "state": {
            "_model_module": "@jupyter-widgets/controls",
            "_model_module_version": "1.5.0",
            "_model_name": "DescriptionStyleModel",
            "_view_count": null,
            "_view_module": "@jupyter-widgets/base",
            "_view_module_version": "1.2.0",
            "_view_name": "StyleView",
            "description_width": ""
          }
        },
        "3bcfaf591aac4ddc96e35acef9d56f23": {
          "model_module": "@jupyter-widgets/base",
          "model_name": "LayoutModel",
          "model_module_version": "1.2.0",
          "state": {
            "_model_module": "@jupyter-widgets/base",
            "_model_module_version": "1.2.0",
            "_model_name": "LayoutModel",
            "_view_count": null,
            "_view_module": "@jupyter-widgets/base",
            "_view_module_version": "1.2.0",
            "_view_name": "LayoutView",
            "align_content": null,
            "align_items": null,
            "align_self": null,
            "border": null,
            "bottom": null,
            "display": null,
            "flex": null,
            "flex_flow": null,
            "grid_area": null,
            "grid_auto_columns": null,
            "grid_auto_flow": null,
            "grid_auto_rows": null,
            "grid_column": null,
            "grid_gap": null,
            "grid_row": null,
            "grid_template_areas": null,
            "grid_template_columns": null,
            "grid_template_rows": null,
            "height": null,
            "justify_content": null,
            "justify_items": null,
            "left": null,
            "margin": null,
            "max_height": null,
            "max_width": null,
            "min_height": null,
            "min_width": null,
            "object_fit": null,
            "object_position": null,
            "order": null,
            "overflow": null,
            "overflow_x": null,
            "overflow_y": null,
            "padding": null,
            "right": null,
            "top": null,
            "visibility": null,
            "width": null
          }
        },
        "7b437496df7d4c9b94d75b2e367241ba": {
          "model_module": "@jupyter-widgets/controls",
          "model_name": "ProgressStyleModel",
          "model_module_version": "1.5.0",
          "state": {
            "_model_module": "@jupyter-widgets/controls",
            "_model_module_version": "1.5.0",
            "_model_name": "ProgressStyleModel",
            "_view_count": null,
            "_view_module": "@jupyter-widgets/base",
            "_view_module_version": "1.2.0",
            "_view_name": "StyleView",
            "bar_color": null,
            "description_width": ""
          }
        },
        "cead5ee32f354b7088be8071315a8c47": {
          "model_module": "@jupyter-widgets/base",
          "model_name": "LayoutModel",
          "model_module_version": "1.2.0",
          "state": {
            "_model_module": "@jupyter-widgets/base",
            "_model_module_version": "1.2.0",
            "_model_name": "LayoutModel",
            "_view_count": null,
            "_view_module": "@jupyter-widgets/base",
            "_view_module_version": "1.2.0",
            "_view_name": "LayoutView",
            "align_content": null,
            "align_items": null,
            "align_self": null,
            "border": null,
            "bottom": null,
            "display": null,
            "flex": null,
            "flex_flow": null,
            "grid_area": null,
            "grid_auto_columns": null,
            "grid_auto_flow": null,
            "grid_auto_rows": null,
            "grid_column": null,
            "grid_gap": null,
            "grid_row": null,
            "grid_template_areas": null,
            "grid_template_columns": null,
            "grid_template_rows": null,
            "height": null,
            "justify_content": null,
            "justify_items": null,
            "left": null,
            "margin": null,
            "max_height": null,
            "max_width": null,
            "min_height": null,
            "min_width": null,
            "object_fit": null,
            "object_position": null,
            "order": null,
            "overflow": null,
            "overflow_x": null,
            "overflow_y": null,
            "padding": null,
            "right": null,
            "top": null,
            "visibility": null,
            "width": null
          }
        },
        "c0e6d6786d6a4edeb1d4b7bdb5388c1d": {
          "model_module": "@jupyter-widgets/controls",
          "model_name": "DescriptionStyleModel",
          "model_module_version": "1.5.0",
          "state": {
            "_model_module": "@jupyter-widgets/controls",
            "_model_module_version": "1.5.0",
            "_model_name": "DescriptionStyleModel",
            "_view_count": null,
            "_view_module": "@jupyter-widgets/base",
            "_view_module_version": "1.2.0",
            "_view_name": "StyleView",
            "description_width": ""
          }
        },
        "7da297ad709044688982f8905eaa79da": {
          "model_module": "@jupyter-widgets/controls",
          "model_name": "HBoxModel",
          "model_module_version": "1.5.0",
          "state": {
            "_dom_classes": [],
            "_model_module": "@jupyter-widgets/controls",
            "_model_module_version": "1.5.0",
            "_model_name": "HBoxModel",
            "_view_count": null,
            "_view_module": "@jupyter-widgets/controls",
            "_view_module_version": "1.5.0",
            "_view_name": "HBoxView",
            "box_style": "",
            "children": [
              "IPY_MODEL_67ab19ddc37d4a1d94fcc6808be78145",
              "IPY_MODEL_4ccfd8538c5e4ed68ce92ad9592ffcd7",
              "IPY_MODEL_1acd95ca765a4a66bf71599ad1641007"
            ],
            "layout": "IPY_MODEL_28a8ff3f90634bba847d16f115869516"
          }
        },
        "67ab19ddc37d4a1d94fcc6808be78145": {
          "model_module": "@jupyter-widgets/controls",
          "model_name": "HTMLModel",
          "model_module_version": "1.5.0",
          "state": {
            "_dom_classes": [],
            "_model_module": "@jupyter-widgets/controls",
            "_model_module_version": "1.5.0",
            "_model_name": "HTMLModel",
            "_view_count": null,
            "_view_module": "@jupyter-widgets/controls",
            "_view_module_version": "1.5.0",
            "_view_name": "HTMLView",
            "description": "",
            "description_tooltip": null,
            "layout": "IPY_MODEL_7c1a7a2f8b2943aca634f6922072d97f",
            "placeholder": "​",
            "style": "IPY_MODEL_862dae5f6ebd4d9083d14cf6d54473d2",
            "value": "100%"
          }
        },
        "4ccfd8538c5e4ed68ce92ad9592ffcd7": {
          "model_module": "@jupyter-widgets/controls",
          "model_name": "FloatProgressModel",
          "model_module_version": "1.5.0",
          "state": {
            "_dom_classes": [],
            "_model_module": "@jupyter-widgets/controls",
            "_model_module_version": "1.5.0",
            "_model_name": "FloatProgressModel",
            "_view_count": null,
            "_view_module": "@jupyter-widgets/controls",
            "_view_module_version": "1.5.0",
            "_view_name": "ProgressView",
            "bar_style": "success",
            "description": "",
            "description_tooltip": null,
            "layout": "IPY_MODEL_7c952b933b494811a8c089a81a5849fb",
            "max": 48,
            "min": 0,
            "orientation": "horizontal",
            "style": "IPY_MODEL_5eb58006fdf64f37803afc8e73d9a21d",
            "value": 48
          }
        },
        "1acd95ca765a4a66bf71599ad1641007": {
          "model_module": "@jupyter-widgets/controls",
          "model_name": "HTMLModel",
          "model_module_version": "1.5.0",
          "state": {
            "_dom_classes": [],
            "_model_module": "@jupyter-widgets/controls",
            "_model_module_version": "1.5.0",
            "_model_name": "HTMLModel",
            "_view_count": null,
            "_view_module": "@jupyter-widgets/controls",
            "_view_module_version": "1.5.0",
            "_view_name": "HTMLView",
            "description": "",
            "description_tooltip": null,
            "layout": "IPY_MODEL_8f2b2e73e23f401e9cf0d368d4a01b02",
            "placeholder": "​",
            "style": "IPY_MODEL_50e2938588b8417196d0a4382a8cf091",
            "value": " 48/48 [00:13&lt;00:00,  3.67it/s]"
          }
        },
        "28a8ff3f90634bba847d16f115869516": {
          "model_module": "@jupyter-widgets/base",
          "model_name": "LayoutModel",
          "model_module_version": "1.2.0",
          "state": {
            "_model_module": "@jupyter-widgets/base",
            "_model_module_version": "1.2.0",
            "_model_name": "LayoutModel",
            "_view_count": null,
            "_view_module": "@jupyter-widgets/base",
            "_view_module_version": "1.2.0",
            "_view_name": "LayoutView",
            "align_content": null,
            "align_items": null,
            "align_self": null,
            "border": null,
            "bottom": null,
            "display": null,
            "flex": null,
            "flex_flow": null,
            "grid_area": null,
            "grid_auto_columns": null,
            "grid_auto_flow": null,
            "grid_auto_rows": null,
            "grid_column": null,
            "grid_gap": null,
            "grid_row": null,
            "grid_template_areas": null,
            "grid_template_columns": null,
            "grid_template_rows": null,
            "height": null,
            "justify_content": null,
            "justify_items": null,
            "left": null,
            "margin": null,
            "max_height": null,
            "max_width": null,
            "min_height": null,
            "min_width": null,
            "object_fit": null,
            "object_position": null,
            "order": null,
            "overflow": null,
            "overflow_x": null,
            "overflow_y": null,
            "padding": null,
            "right": null,
            "top": null,
            "visibility": null,
            "width": null
          }
        },
        "7c1a7a2f8b2943aca634f6922072d97f": {
          "model_module": "@jupyter-widgets/base",
          "model_name": "LayoutModel",
          "model_module_version": "1.2.0",
          "state": {
            "_model_module": "@jupyter-widgets/base",
            "_model_module_version": "1.2.0",
            "_model_name": "LayoutModel",
            "_view_count": null,
            "_view_module": "@jupyter-widgets/base",
            "_view_module_version": "1.2.0",
            "_view_name": "LayoutView",
            "align_content": null,
            "align_items": null,
            "align_self": null,
            "border": null,
            "bottom": null,
            "display": null,
            "flex": null,
            "flex_flow": null,
            "grid_area": null,
            "grid_auto_columns": null,
            "grid_auto_flow": null,
            "grid_auto_rows": null,
            "grid_column": null,
            "grid_gap": null,
            "grid_row": null,
            "grid_template_areas": null,
            "grid_template_columns": null,
            "grid_template_rows": null,
            "height": null,
            "justify_content": null,
            "justify_items": null,
            "left": null,
            "margin": null,
            "max_height": null,
            "max_width": null,
            "min_height": null,
            "min_width": null,
            "object_fit": null,
            "object_position": null,
            "order": null,
            "overflow": null,
            "overflow_x": null,
            "overflow_y": null,
            "padding": null,
            "right": null,
            "top": null,
            "visibility": null,
            "width": null
          }
        },
        "862dae5f6ebd4d9083d14cf6d54473d2": {
          "model_module": "@jupyter-widgets/controls",
          "model_name": "DescriptionStyleModel",
          "model_module_version": "1.5.0",
          "state": {
            "_model_module": "@jupyter-widgets/controls",
            "_model_module_version": "1.5.0",
            "_model_name": "DescriptionStyleModel",
            "_view_count": null,
            "_view_module": "@jupyter-widgets/base",
            "_view_module_version": "1.2.0",
            "_view_name": "StyleView",
            "description_width": ""
          }
        },
        "7c952b933b494811a8c089a81a5849fb": {
          "model_module": "@jupyter-widgets/base",
          "model_name": "LayoutModel",
          "model_module_version": "1.2.0",
          "state": {
            "_model_module": "@jupyter-widgets/base",
            "_model_module_version": "1.2.0",
            "_model_name": "LayoutModel",
            "_view_count": null,
            "_view_module": "@jupyter-widgets/base",
            "_view_module_version": "1.2.0",
            "_view_name": "LayoutView",
            "align_content": null,
            "align_items": null,
            "align_self": null,
            "border": null,
            "bottom": null,
            "display": null,
            "flex": null,
            "flex_flow": null,
            "grid_area": null,
            "grid_auto_columns": null,
            "grid_auto_flow": null,
            "grid_auto_rows": null,
            "grid_column": null,
            "grid_gap": null,
            "grid_row": null,
            "grid_template_areas": null,
            "grid_template_columns": null,
            "grid_template_rows": null,
            "height": null,
            "justify_content": null,
            "justify_items": null,
            "left": null,
            "margin": null,
            "max_height": null,
            "max_width": null,
            "min_height": null,
            "min_width": null,
            "object_fit": null,
            "object_position": null,
            "order": null,
            "overflow": null,
            "overflow_x": null,
            "overflow_y": null,
            "padding": null,
            "right": null,
            "top": null,
            "visibility": null,
            "width": null
          }
        },
        "5eb58006fdf64f37803afc8e73d9a21d": {
          "model_module": "@jupyter-widgets/controls",
          "model_name": "ProgressStyleModel",
          "model_module_version": "1.5.0",
          "state": {
            "_model_module": "@jupyter-widgets/controls",
            "_model_module_version": "1.5.0",
            "_model_name": "ProgressStyleModel",
            "_view_count": null,
            "_view_module": "@jupyter-widgets/base",
            "_view_module_version": "1.2.0",
            "_view_name": "StyleView",
            "bar_color": null,
            "description_width": ""
          }
        },
        "8f2b2e73e23f401e9cf0d368d4a01b02": {
          "model_module": "@jupyter-widgets/base",
          "model_name": "LayoutModel",
          "model_module_version": "1.2.0",
          "state": {
            "_model_module": "@jupyter-widgets/base",
            "_model_module_version": "1.2.0",
            "_model_name": "LayoutModel",
            "_view_count": null,
            "_view_module": "@jupyter-widgets/base",
            "_view_module_version": "1.2.0",
            "_view_name": "LayoutView",
            "align_content": null,
            "align_items": null,
            "align_self": null,
            "border": null,
            "bottom": null,
            "display": null,
            "flex": null,
            "flex_flow": null,
            "grid_area": null,
            "grid_auto_columns": null,
            "grid_auto_flow": null,
            "grid_auto_rows": null,
            "grid_column": null,
            "grid_gap": null,
            "grid_row": null,
            "grid_template_areas": null,
            "grid_template_columns": null,
            "grid_template_rows": null,
            "height": null,
            "justify_content": null,
            "justify_items": null,
            "left": null,
            "margin": null,
            "max_height": null,
            "max_width": null,
            "min_height": null,
            "min_width": null,
            "object_fit": null,
            "object_position": null,
            "order": null,
            "overflow": null,
            "overflow_x": null,
            "overflow_y": null,
            "padding": null,
            "right": null,
            "top": null,
            "visibility": null,
            "width": null
          }
        },
        "50e2938588b8417196d0a4382a8cf091": {
          "model_module": "@jupyter-widgets/controls",
          "model_name": "DescriptionStyleModel",
          "model_module_version": "1.5.0",
          "state": {
            "_model_module": "@jupyter-widgets/controls",
            "_model_module_version": "1.5.0",
            "_model_name": "DescriptionStyleModel",
            "_view_count": null,
            "_view_module": "@jupyter-widgets/base",
            "_view_module_version": "1.2.0",
            "_view_name": "StyleView",
            "description_width": ""
          }
        },
        "ce888697ec0d4d068ff3e02371a1bb6f": {
          "model_module": "@jupyter-widgets/controls",
          "model_name": "HBoxModel",
          "model_module_version": "1.5.0",
          "state": {
            "_dom_classes": [],
            "_model_module": "@jupyter-widgets/controls",
            "_model_module_version": "1.5.0",
            "_model_name": "HBoxModel",
            "_view_count": null,
            "_view_module": "@jupyter-widgets/controls",
            "_view_module_version": "1.5.0",
            "_view_name": "HBoxView",
            "box_style": "",
            "children": [
              "IPY_MODEL_1a25b21fdee64b9381e90d0cdbed0475",
              "IPY_MODEL_47a1930cbc7148b3b745957dd08c8580",
              "IPY_MODEL_69f69be7c06d41e0a02ea489554f6dfb"
            ],
            "layout": "IPY_MODEL_d78fdc0058c64521a404d8f301ae93bc"
          }
        },
        "1a25b21fdee64b9381e90d0cdbed0475": {
          "model_module": "@jupyter-widgets/controls",
          "model_name": "HTMLModel",
          "model_module_version": "1.5.0",
          "state": {
            "_dom_classes": [],
            "_model_module": "@jupyter-widgets/controls",
            "_model_module_version": "1.5.0",
            "_model_name": "HTMLModel",
            "_view_count": null,
            "_view_module": "@jupyter-widgets/controls",
            "_view_module_version": "1.5.0",
            "_view_name": "HTMLView",
            "description": "",
            "description_tooltip": null,
            "layout": "IPY_MODEL_67da2e5a86f34e0eab4794b30796a699",
            "placeholder": "​",
            "style": "IPY_MODEL_fb05491ec254407096292ef6d1ce6b97",
            "value": "100%"
          }
        },
        "47a1930cbc7148b3b745957dd08c8580": {
          "model_module": "@jupyter-widgets/controls",
          "model_name": "FloatProgressModel",
          "model_module_version": "1.5.0",
          "state": {
            "_dom_classes": [],
            "_model_module": "@jupyter-widgets/controls",
            "_model_module_version": "1.5.0",
            "_model_name": "FloatProgressModel",
            "_view_count": null,
            "_view_module": "@jupyter-widgets/controls",
            "_view_module_version": "1.5.0",
            "_view_name": "ProgressView",
            "bar_style": "success",
            "description": "",
            "description_tooltip": null,
            "layout": "IPY_MODEL_637c80261c7c42c9a253064ac6637515",
            "max": 48,
            "min": 0,
            "orientation": "horizontal",
            "style": "IPY_MODEL_9d9002f468fc4ba4acd10d18928a4d5c",
            "value": 48
          }
        },
        "69f69be7c06d41e0a02ea489554f6dfb": {
          "model_module": "@jupyter-widgets/controls",
          "model_name": "HTMLModel",
          "model_module_version": "1.5.0",
          "state": {
            "_dom_classes": [],
            "_model_module": "@jupyter-widgets/controls",
            "_model_module_version": "1.5.0",
            "_model_name": "HTMLModel",
            "_view_count": null,
            "_view_module": "@jupyter-widgets/controls",
            "_view_module_version": "1.5.0",
            "_view_name": "HTMLView",
            "description": "",
            "description_tooltip": null,
            "layout": "IPY_MODEL_6ed78518f74e41bbae076dd83ab7b962",
            "placeholder": "​",
            "style": "IPY_MODEL_9d2b39e6aa9e43309810bcbc6745846d",
            "value": " 48/48 [00:18&lt;00:00,  1.96it/s]"
          }
        },
        "d78fdc0058c64521a404d8f301ae93bc": {
          "model_module": "@jupyter-widgets/base",
          "model_name": "LayoutModel",
          "model_module_version": "1.2.0",
          "state": {
            "_model_module": "@jupyter-widgets/base",
            "_model_module_version": "1.2.0",
            "_model_name": "LayoutModel",
            "_view_count": null,
            "_view_module": "@jupyter-widgets/base",
            "_view_module_version": "1.2.0",
            "_view_name": "LayoutView",
            "align_content": null,
            "align_items": null,
            "align_self": null,
            "border": null,
            "bottom": null,
            "display": null,
            "flex": null,
            "flex_flow": null,
            "grid_area": null,
            "grid_auto_columns": null,
            "grid_auto_flow": null,
            "grid_auto_rows": null,
            "grid_column": null,
            "grid_gap": null,
            "grid_row": null,
            "grid_template_areas": null,
            "grid_template_columns": null,
            "grid_template_rows": null,
            "height": null,
            "justify_content": null,
            "justify_items": null,
            "left": null,
            "margin": null,
            "max_height": null,
            "max_width": null,
            "min_height": null,
            "min_width": null,
            "object_fit": null,
            "object_position": null,
            "order": null,
            "overflow": null,
            "overflow_x": null,
            "overflow_y": null,
            "padding": null,
            "right": null,
            "top": null,
            "visibility": null,
            "width": null
          }
        },
        "67da2e5a86f34e0eab4794b30796a699": {
          "model_module": "@jupyter-widgets/base",
          "model_name": "LayoutModel",
          "model_module_version": "1.2.0",
          "state": {
            "_model_module": "@jupyter-widgets/base",
            "_model_module_version": "1.2.0",
            "_model_name": "LayoutModel",
            "_view_count": null,
            "_view_module": "@jupyter-widgets/base",
            "_view_module_version": "1.2.0",
            "_view_name": "LayoutView",
            "align_content": null,
            "align_items": null,
            "align_self": null,
            "border": null,
            "bottom": null,
            "display": null,
            "flex": null,
            "flex_flow": null,
            "grid_area": null,
            "grid_auto_columns": null,
            "grid_auto_flow": null,
            "grid_auto_rows": null,
            "grid_column": null,
            "grid_gap": null,
            "grid_row": null,
            "grid_template_areas": null,
            "grid_template_columns": null,
            "grid_template_rows": null,
            "height": null,
            "justify_content": null,
            "justify_items": null,
            "left": null,
            "margin": null,
            "max_height": null,
            "max_width": null,
            "min_height": null,
            "min_width": null,
            "object_fit": null,
            "object_position": null,
            "order": null,
            "overflow": null,
            "overflow_x": null,
            "overflow_y": null,
            "padding": null,
            "right": null,
            "top": null,
            "visibility": null,
            "width": null
          }
        },
        "fb05491ec254407096292ef6d1ce6b97": {
          "model_module": "@jupyter-widgets/controls",
          "model_name": "DescriptionStyleModel",
          "model_module_version": "1.5.0",
          "state": {
            "_model_module": "@jupyter-widgets/controls",
            "_model_module_version": "1.5.0",
            "_model_name": "DescriptionStyleModel",
            "_view_count": null,
            "_view_module": "@jupyter-widgets/base",
            "_view_module_version": "1.2.0",
            "_view_name": "StyleView",
            "description_width": ""
          }
        },
        "637c80261c7c42c9a253064ac6637515": {
          "model_module": "@jupyter-widgets/base",
          "model_name": "LayoutModel",
          "model_module_version": "1.2.0",
          "state": {
            "_model_module": "@jupyter-widgets/base",
            "_model_module_version": "1.2.0",
            "_model_name": "LayoutModel",
            "_view_count": null,
            "_view_module": "@jupyter-widgets/base",
            "_view_module_version": "1.2.0",
            "_view_name": "LayoutView",
            "align_content": null,
            "align_items": null,
            "align_self": null,
            "border": null,
            "bottom": null,
            "display": null,
            "flex": null,
            "flex_flow": null,
            "grid_area": null,
            "grid_auto_columns": null,
            "grid_auto_flow": null,
            "grid_auto_rows": null,
            "grid_column": null,
            "grid_gap": null,
            "grid_row": null,
            "grid_template_areas": null,
            "grid_template_columns": null,
            "grid_template_rows": null,
            "height": null,
            "justify_content": null,
            "justify_items": null,
            "left": null,
            "margin": null,
            "max_height": null,
            "max_width": null,
            "min_height": null,
            "min_width": null,
            "object_fit": null,
            "object_position": null,
            "order": null,
            "overflow": null,
            "overflow_x": null,
            "overflow_y": null,
            "padding": null,
            "right": null,
            "top": null,
            "visibility": null,
            "width": null
          }
        },
        "9d9002f468fc4ba4acd10d18928a4d5c": {
          "model_module": "@jupyter-widgets/controls",
          "model_name": "ProgressStyleModel",
          "model_module_version": "1.5.0",
          "state": {
            "_model_module": "@jupyter-widgets/controls",
            "_model_module_version": "1.5.0",
            "_model_name": "ProgressStyleModel",
            "_view_count": null,
            "_view_module": "@jupyter-widgets/base",
            "_view_module_version": "1.2.0",
            "_view_name": "StyleView",
            "bar_color": null,
            "description_width": ""
          }
        },
        "6ed78518f74e41bbae076dd83ab7b962": {
          "model_module": "@jupyter-widgets/base",
          "model_name": "LayoutModel",
          "model_module_version": "1.2.0",
          "state": {
            "_model_module": "@jupyter-widgets/base",
            "_model_module_version": "1.2.0",
            "_model_name": "LayoutModel",
            "_view_count": null,
            "_view_module": "@jupyter-widgets/base",
            "_view_module_version": "1.2.0",
            "_view_name": "LayoutView",
            "align_content": null,
            "align_items": null,
            "align_self": null,
            "border": null,
            "bottom": null,
            "display": null,
            "flex": null,
            "flex_flow": null,
            "grid_area": null,
            "grid_auto_columns": null,
            "grid_auto_flow": null,
            "grid_auto_rows": null,
            "grid_column": null,
            "grid_gap": null,
            "grid_row": null,
            "grid_template_areas": null,
            "grid_template_columns": null,
            "grid_template_rows": null,
            "height": null,
            "justify_content": null,
            "justify_items": null,
            "left": null,
            "margin": null,
            "max_height": null,
            "max_width": null,
            "min_height": null,
            "min_width": null,
            "object_fit": null,
            "object_position": null,
            "order": null,
            "overflow": null,
            "overflow_x": null,
            "overflow_y": null,
            "padding": null,
            "right": null,
            "top": null,
            "visibility": null,
            "width": null
          }
        },
        "9d2b39e6aa9e43309810bcbc6745846d": {
          "model_module": "@jupyter-widgets/controls",
          "model_name": "DescriptionStyleModel",
          "model_module_version": "1.5.0",
          "state": {
            "_model_module": "@jupyter-widgets/controls",
            "_model_module_version": "1.5.0",
            "_model_name": "DescriptionStyleModel",
            "_view_count": null,
            "_view_module": "@jupyter-widgets/base",
            "_view_module_version": "1.2.0",
            "_view_name": "StyleView",
            "description_width": ""
          }
        }
      }
    }
  },
  "cells": [
    {
      "cell_type": "markdown",
      "metadata": {
        "id": "view-in-github",
        "colab_type": "text"
      },
      "source": [
        "<a href=\"https://colab.research.google.com/github/LM1997610/TimeSeries-KPMG/blob/main/main_KPMG.ipynb\" target=\"_parent\"><img src=\"https://colab.research.google.com/assets/colab-badge.svg\" alt=\"Open In Colab\"/></a>"
      ]
    },
    {
      "cell_type": "markdown",
      "source": [
        "\n",
        "\n",
        "## <h1><center> **[Sapienza Training Camp](https://corsidilaurea.uniroma1.it/it/node/2649318)** </center></h1>\n",
        "## <h2><center> Time Series Forecasting with *KPMG* </center></h2>\n",
        "## <h4><center> July 2024 </center></h4>"
      ],
      "metadata": {
        "id": "mQfZpsvzXouV"
      }
    },
    {
      "cell_type": "markdown",
      "source": [
        "Group name: &ensp; **`Ki Programma Male Group`**\n",
        "\n",
        "Team members:\n",
        "\n",
        "- Ioan Corrias: 2079420\n",
        "- Lucia Dicunta: 2037075\n",
        "- Luca Mazzucco: 1997610\n",
        "- Cosmin Madalin Zaharia: 1805207\n",
        "\n",
        "<br>\n",
        "\n",
        "**Winners** of the [Kaggle](https://www.kaggle.com/competitions/sapienza-training-camp-forecasting-2024/leaderboard#) competition"
      ],
      "metadata": {
        "id": "j_AzUfqqXowp"
      }
    },
    {
      "cell_type": "markdown",
      "source": [
        "The data comes from a real dataset supplied by [KPMG](https://kpmg.com/it/it/home/insights/2023/03/intelligent-forecasting.html)\\\n",
        "The dataset is private, not allowed to share the dataset outside this competition.\n",
        "\n",
        "It describes snacks sold in Northern Europe, the **target is to predict the volume sold in the next 4 months**.\\\n",
        "The dataset is composed of 48 individual time series."
      ],
      "metadata": {
        "id": "6GONaTRcfSvA"
      }
    },
    {
      "cell_type": "code",
      "source": [
        "! pip -q install opendatasets"
      ],
      "metadata": {
        "id": "08Kr3zr4Xp9C"
      },
      "execution_count": 1,
      "outputs": []
    },
    {
      "cell_type": "code",
      "source": [
        "import os\n",
        "import numpy as np\n",
        "import pandas as pd\n",
        "import datetime as dt\n",
        "import opendatasets as od\n",
        "import matplotlib.pyplot as plt\n",
        "\n",
        "from tqdm.auto import tqdm\n",
        "from google.colab import files\n",
        "from collections import Counter\n",
        "from IPython.display import Image\n",
        "\n",
        "from statsmodels.tsa.stattools import adfuller\n",
        "from statsmodels.tsa.arima.model import ARIMA\n",
        "from statsmodels.tsa.seasonal import seasonal_decompose"
      ],
      "metadata": {
        "id": "ep1LnF_9dzlJ"
      },
      "execution_count": 2,
      "outputs": []
    },
    {
      "cell_type": "code",
      "source": [
        "! git clone https://github.com/LM1997610/TimeSeries-KPMG\n",
        "\n",
        "os.chdir('TimeSeries-KPMG')"
      ],
      "metadata": {
        "colab": {
          "base_uri": "https://localhost:8080/"
        },
        "id": "2TRRqWIjrgp2",
        "outputId": "a35e64ba-f3c3-46be-bb34-3be4ef165349"
      },
      "execution_count": 3,
      "outputs": [
        {
          "output_type": "stream",
          "name": "stdout",
          "text": [
            "Cloning into 'TimeSeries-KPMG'...\n",
            "remote: Enumerating objects: 237, done.\u001b[K\n",
            "remote: Counting objects: 100% (85/85), done.\u001b[K\n",
            "remote: Compressing objects: 100% (85/85), done.\u001b[K\n",
            "remote: Total 237 (delta 49), reused 0 (delta 0), pack-reused 152\u001b[K\n",
            "Receiving objects: 100% (237/237), 1.00 MiB | 7.96 MiB/s, done.\n",
            "Resolving deltas: 100% (140/140), done.\n"
          ]
        }
      ]
    },
    {
      "cell_type": "code",
      "source": [
        "from functions import *\n",
        "\n",
        "from scoring_metric import solution_to_global\n",
        "from scoring_metric import mape_score as mape_score_function\n",
        "\n",
        "from sklearn.metrics import mean_absolute_percentage_error"
      ],
      "metadata": {
        "id": "BFWmxii7pNDR"
      },
      "execution_count": 4,
      "outputs": []
    },
    {
      "cell_type": "markdown",
      "source": [
        "<br>\n",
        "\n",
        "Kaggle submission are evaluated using a score based on MAPE (Mean Absolute Percentage Error)\n",
        "\n",
        "<br>\n",
        "\n",
        "---------------------------------------------"
      ],
      "metadata": {
        "id": "kAFqo3rZiibG"
      }
    },
    {
      "cell_type": "code",
      "source": [
        "data_url = 'https://www.kaggle.com/competitions/sapienza-training-camp-forecasting-2024'\n",
        "\n",
        "od.download(data_url)"
      ],
      "metadata": {
        "colab": {
          "base_uri": "https://localhost:8080/"
        },
        "id": "rv5qTd4kd1vL",
        "outputId": "5e893e43-4cb2-4a9f-99f6-a1d82b886a0a"
      },
      "execution_count": 5,
      "outputs": [
        {
          "output_type": "stream",
          "name": "stdout",
          "text": [
            "Please provide your Kaggle credentials to download this dataset. Learn more: http://bit.ly/kaggle-creds\n",
            "Your Kaggle username: lmazzucco\n",
            "Your Kaggle Key: ··········\n",
            "Downloading sapienza-training-camp-forecasting-2024.zip to ./sapienza-training-camp-forecasting-2024\n"
          ]
        },
        {
          "output_type": "stream",
          "name": "stderr",
          "text": [
            "100%|██████████| 75.4k/75.4k [00:00<00:00, 739kB/s]"
          ]
        },
        {
          "output_type": "stream",
          "name": "stdout",
          "text": [
            "\n",
            "Extracting archive ./sapienza-training-camp-forecasting-2024/sapienza-training-camp-forecasting-2024.zip to ./sapienza-training-camp-forecasting-2024\n"
          ]
        },
        {
          "output_type": "stream",
          "name": "stderr",
          "text": [
            "\n"
          ]
        }
      ]
    },
    {
      "cell_type": "code",
      "source": [
        "data = pd.read_csv('sapienza-training-camp-forecasting-2024/train.csv')\n",
        "\n",
        "print(f'data.shape: {data.shape}')"
      ],
      "metadata": {
        "colab": {
          "base_uri": "https://localhost:8080/"
        },
        "id": "sErg6thGfZSv",
        "outputId": "268b08f3-6c82-4af7-f603-8eb7e175eca0"
      },
      "execution_count": 6,
      "outputs": [
        {
          "output_type": "stream",
          "name": "stdout",
          "text": [
            "data.shape: (5793, 9)\n"
          ]
        }
      ]
    },
    {
      "cell_type": "code",
      "source": [
        "display(data.head())"
      ],
      "metadata": {
        "colab": {
          "base_uri": "https://localhost:8080/",
          "height": 206
        },
        "id": "eLKI_T64fZVA",
        "outputId": "82dfe169-245b-4ac1-b14f-b56e54b1a431"
      },
      "execution_count": 7,
      "outputs": [
        {
          "output_type": "display_data",
          "data": {
            "text/plain": [
              "     volume_kg  distribution_channel  customer  brand       channel  \\\n",
              "0   460.026585                     0         1      1  FOOD SERVICE   \n",
              "1   456.944328                     0         1      1  FOOD SERVICE   \n",
              "2   926.790243                     0         1      1  FOOD SERVICE   \n",
              "3   762.549167                     0         1      1  FOOD SERVICE   \n",
              "4  1132.060704                     0         1      1  FOOD SERVICE   \n",
              "\n",
              "   store_format  category  year  month  \n",
              "0             3         3  2010      1  \n",
              "1             3         3  2010      2  \n",
              "2             3         3  2010      3  \n",
              "3             3         3  2010      4  \n",
              "4             3         3  2010      5  "
            ],
            "text/html": [
              "\n",
              "  <div id=\"df-9369f737-4c15-4e10-b1b6-a6c7ebf1dd65\" class=\"colab-df-container\">\n",
              "    <div>\n",
              "<style scoped>\n",
              "    .dataframe tbody tr th:only-of-type {\n",
              "        vertical-align: middle;\n",
              "    }\n",
              "\n",
              "    .dataframe tbody tr th {\n",
              "        vertical-align: top;\n",
              "    }\n",
              "\n",
              "    .dataframe thead th {\n",
              "        text-align: right;\n",
              "    }\n",
              "</style>\n",
              "<table border=\"1\" class=\"dataframe\">\n",
              "  <thead>\n",
              "    <tr style=\"text-align: right;\">\n",
              "      <th></th>\n",
              "      <th>volume_kg</th>\n",
              "      <th>distribution_channel</th>\n",
              "      <th>customer</th>\n",
              "      <th>brand</th>\n",
              "      <th>channel</th>\n",
              "      <th>store_format</th>\n",
              "      <th>category</th>\n",
              "      <th>year</th>\n",
              "      <th>month</th>\n",
              "    </tr>\n",
              "  </thead>\n",
              "  <tbody>\n",
              "    <tr>\n",
              "      <th>0</th>\n",
              "      <td>460.026585</td>\n",
              "      <td>0</td>\n",
              "      <td>1</td>\n",
              "      <td>1</td>\n",
              "      <td>FOOD SERVICE</td>\n",
              "      <td>3</td>\n",
              "      <td>3</td>\n",
              "      <td>2010</td>\n",
              "      <td>1</td>\n",
              "    </tr>\n",
              "    <tr>\n",
              "      <th>1</th>\n",
              "      <td>456.944328</td>\n",
              "      <td>0</td>\n",
              "      <td>1</td>\n",
              "      <td>1</td>\n",
              "      <td>FOOD SERVICE</td>\n",
              "      <td>3</td>\n",
              "      <td>3</td>\n",
              "      <td>2010</td>\n",
              "      <td>2</td>\n",
              "    </tr>\n",
              "    <tr>\n",
              "      <th>2</th>\n",
              "      <td>926.790243</td>\n",
              "      <td>0</td>\n",
              "      <td>1</td>\n",
              "      <td>1</td>\n",
              "      <td>FOOD SERVICE</td>\n",
              "      <td>3</td>\n",
              "      <td>3</td>\n",
              "      <td>2010</td>\n",
              "      <td>3</td>\n",
              "    </tr>\n",
              "    <tr>\n",
              "      <th>3</th>\n",
              "      <td>762.549167</td>\n",
              "      <td>0</td>\n",
              "      <td>1</td>\n",
              "      <td>1</td>\n",
              "      <td>FOOD SERVICE</td>\n",
              "      <td>3</td>\n",
              "      <td>3</td>\n",
              "      <td>2010</td>\n",
              "      <td>4</td>\n",
              "    </tr>\n",
              "    <tr>\n",
              "      <th>4</th>\n",
              "      <td>1132.060704</td>\n",
              "      <td>0</td>\n",
              "      <td>1</td>\n",
              "      <td>1</td>\n",
              "      <td>FOOD SERVICE</td>\n",
              "      <td>3</td>\n",
              "      <td>3</td>\n",
              "      <td>2010</td>\n",
              "      <td>5</td>\n",
              "    </tr>\n",
              "  </tbody>\n",
              "</table>\n",
              "</div>\n",
              "    <div class=\"colab-df-buttons\">\n",
              "\n",
              "  <div class=\"colab-df-container\">\n",
              "    <button class=\"colab-df-convert\" onclick=\"convertToInteractive('df-9369f737-4c15-4e10-b1b6-a6c7ebf1dd65')\"\n",
              "            title=\"Convert this dataframe to an interactive table.\"\n",
              "            style=\"display:none;\">\n",
              "\n",
              "  <svg xmlns=\"http://www.w3.org/2000/svg\" height=\"24px\" viewBox=\"0 -960 960 960\">\n",
              "    <path d=\"M120-120v-720h720v720H120Zm60-500h600v-160H180v160Zm220 220h160v-160H400v160Zm0 220h160v-160H400v160ZM180-400h160v-160H180v160Zm440 0h160v-160H620v160ZM180-180h160v-160H180v160Zm440 0h160v-160H620v160Z\"/>\n",
              "  </svg>\n",
              "    </button>\n",
              "\n",
              "  <style>\n",
              "    .colab-df-container {\n",
              "      display:flex;\n",
              "      gap: 12px;\n",
              "    }\n",
              "\n",
              "    .colab-df-convert {\n",
              "      background-color: #E8F0FE;\n",
              "      border: none;\n",
              "      border-radius: 50%;\n",
              "      cursor: pointer;\n",
              "      display: none;\n",
              "      fill: #1967D2;\n",
              "      height: 32px;\n",
              "      padding: 0 0 0 0;\n",
              "      width: 32px;\n",
              "    }\n",
              "\n",
              "    .colab-df-convert:hover {\n",
              "      background-color: #E2EBFA;\n",
              "      box-shadow: 0px 1px 2px rgba(60, 64, 67, 0.3), 0px 1px 3px 1px rgba(60, 64, 67, 0.15);\n",
              "      fill: #174EA6;\n",
              "    }\n",
              "\n",
              "    .colab-df-buttons div {\n",
              "      margin-bottom: 4px;\n",
              "    }\n",
              "\n",
              "    [theme=dark] .colab-df-convert {\n",
              "      background-color: #3B4455;\n",
              "      fill: #D2E3FC;\n",
              "    }\n",
              "\n",
              "    [theme=dark] .colab-df-convert:hover {\n",
              "      background-color: #434B5C;\n",
              "      box-shadow: 0px 1px 3px 1px rgba(0, 0, 0, 0.15);\n",
              "      filter: drop-shadow(0px 1px 2px rgba(0, 0, 0, 0.3));\n",
              "      fill: #FFFFFF;\n",
              "    }\n",
              "  </style>\n",
              "\n",
              "    <script>\n",
              "      const buttonEl =\n",
              "        document.querySelector('#df-9369f737-4c15-4e10-b1b6-a6c7ebf1dd65 button.colab-df-convert');\n",
              "      buttonEl.style.display =\n",
              "        google.colab.kernel.accessAllowed ? 'block' : 'none';\n",
              "\n",
              "      async function convertToInteractive(key) {\n",
              "        const element = document.querySelector('#df-9369f737-4c15-4e10-b1b6-a6c7ebf1dd65');\n",
              "        const dataTable =\n",
              "          await google.colab.kernel.invokeFunction('convertToInteractive',\n",
              "                                                    [key], {});\n",
              "        if (!dataTable) return;\n",
              "\n",
              "        const docLinkHtml = 'Like what you see? Visit the ' +\n",
              "          '<a target=\"_blank\" href=https://colab.research.google.com/notebooks/data_table.ipynb>data table notebook</a>'\n",
              "          + ' to learn more about interactive tables.';\n",
              "        element.innerHTML = '';\n",
              "        dataTable['output_type'] = 'display_data';\n",
              "        await google.colab.output.renderOutput(dataTable, element);\n",
              "        const docLink = document.createElement('div');\n",
              "        docLink.innerHTML = docLinkHtml;\n",
              "        element.appendChild(docLink);\n",
              "      }\n",
              "    </script>\n",
              "  </div>\n",
              "\n",
              "\n",
              "<div id=\"df-876743a8-d8d0-4c4b-94d8-ff1dd62b3f76\">\n",
              "  <button class=\"colab-df-quickchart\" onclick=\"quickchart('df-876743a8-d8d0-4c4b-94d8-ff1dd62b3f76')\"\n",
              "            title=\"Suggest charts\"\n",
              "            style=\"display:none;\">\n",
              "\n",
              "<svg xmlns=\"http://www.w3.org/2000/svg\" height=\"24px\"viewBox=\"0 0 24 24\"\n",
              "     width=\"24px\">\n",
              "    <g>\n",
              "        <path d=\"M19 3H5c-1.1 0-2 .9-2 2v14c0 1.1.9 2 2 2h14c1.1 0 2-.9 2-2V5c0-1.1-.9-2-2-2zM9 17H7v-7h2v7zm4 0h-2V7h2v10zm4 0h-2v-4h2v4z\"/>\n",
              "    </g>\n",
              "</svg>\n",
              "  </button>\n",
              "\n",
              "<style>\n",
              "  .colab-df-quickchart {\n",
              "      --bg-color: #E8F0FE;\n",
              "      --fill-color: #1967D2;\n",
              "      --hover-bg-color: #E2EBFA;\n",
              "      --hover-fill-color: #174EA6;\n",
              "      --disabled-fill-color: #AAA;\n",
              "      --disabled-bg-color: #DDD;\n",
              "  }\n",
              "\n",
              "  [theme=dark] .colab-df-quickchart {\n",
              "      --bg-color: #3B4455;\n",
              "      --fill-color: #D2E3FC;\n",
              "      --hover-bg-color: #434B5C;\n",
              "      --hover-fill-color: #FFFFFF;\n",
              "      --disabled-bg-color: #3B4455;\n",
              "      --disabled-fill-color: #666;\n",
              "  }\n",
              "\n",
              "  .colab-df-quickchart {\n",
              "    background-color: var(--bg-color);\n",
              "    border: none;\n",
              "    border-radius: 50%;\n",
              "    cursor: pointer;\n",
              "    display: none;\n",
              "    fill: var(--fill-color);\n",
              "    height: 32px;\n",
              "    padding: 0;\n",
              "    width: 32px;\n",
              "  }\n",
              "\n",
              "  .colab-df-quickchart:hover {\n",
              "    background-color: var(--hover-bg-color);\n",
              "    box-shadow: 0 1px 2px rgba(60, 64, 67, 0.3), 0 1px 3px 1px rgba(60, 64, 67, 0.15);\n",
              "    fill: var(--button-hover-fill-color);\n",
              "  }\n",
              "\n",
              "  .colab-df-quickchart-complete:disabled,\n",
              "  .colab-df-quickchart-complete:disabled:hover {\n",
              "    background-color: var(--disabled-bg-color);\n",
              "    fill: var(--disabled-fill-color);\n",
              "    box-shadow: none;\n",
              "  }\n",
              "\n",
              "  .colab-df-spinner {\n",
              "    border: 2px solid var(--fill-color);\n",
              "    border-color: transparent;\n",
              "    border-bottom-color: var(--fill-color);\n",
              "    animation:\n",
              "      spin 1s steps(1) infinite;\n",
              "  }\n",
              "\n",
              "  @keyframes spin {\n",
              "    0% {\n",
              "      border-color: transparent;\n",
              "      border-bottom-color: var(--fill-color);\n",
              "      border-left-color: var(--fill-color);\n",
              "    }\n",
              "    20% {\n",
              "      border-color: transparent;\n",
              "      border-left-color: var(--fill-color);\n",
              "      border-top-color: var(--fill-color);\n",
              "    }\n",
              "    30% {\n",
              "      border-color: transparent;\n",
              "      border-left-color: var(--fill-color);\n",
              "      border-top-color: var(--fill-color);\n",
              "      border-right-color: var(--fill-color);\n",
              "    }\n",
              "    40% {\n",
              "      border-color: transparent;\n",
              "      border-right-color: var(--fill-color);\n",
              "      border-top-color: var(--fill-color);\n",
              "    }\n",
              "    60% {\n",
              "      border-color: transparent;\n",
              "      border-right-color: var(--fill-color);\n",
              "    }\n",
              "    80% {\n",
              "      border-color: transparent;\n",
              "      border-right-color: var(--fill-color);\n",
              "      border-bottom-color: var(--fill-color);\n",
              "    }\n",
              "    90% {\n",
              "      border-color: transparent;\n",
              "      border-bottom-color: var(--fill-color);\n",
              "    }\n",
              "  }\n",
              "</style>\n",
              "\n",
              "  <script>\n",
              "    async function quickchart(key) {\n",
              "      const quickchartButtonEl =\n",
              "        document.querySelector('#' + key + ' button');\n",
              "      quickchartButtonEl.disabled = true;  // To prevent multiple clicks.\n",
              "      quickchartButtonEl.classList.add('colab-df-spinner');\n",
              "      try {\n",
              "        const charts = await google.colab.kernel.invokeFunction(\n",
              "            'suggestCharts', [key], {});\n",
              "      } catch (error) {\n",
              "        console.error('Error during call to suggestCharts:', error);\n",
              "      }\n",
              "      quickchartButtonEl.classList.remove('colab-df-spinner');\n",
              "      quickchartButtonEl.classList.add('colab-df-quickchart-complete');\n",
              "    }\n",
              "    (() => {\n",
              "      let quickchartButtonEl =\n",
              "        document.querySelector('#df-876743a8-d8d0-4c4b-94d8-ff1dd62b3f76 button');\n",
              "      quickchartButtonEl.style.display =\n",
              "        google.colab.kernel.accessAllowed ? 'block' : 'none';\n",
              "    })();\n",
              "  </script>\n",
              "</div>\n",
              "\n",
              "    </div>\n",
              "  </div>\n"
            ],
            "application/vnd.google.colaboratory.intrinsic+json": {
              "type": "dataframe",
              "summary": "{\n  \"name\": \"display(data\",\n  \"rows\": 5,\n  \"fields\": [\n    {\n      \"column\": \"volume_kg\",\n      \"properties\": {\n        \"dtype\": \"number\",\n        \"std\": 294.67007610864243,\n        \"min\": 456.9443278830593,\n        \"max\": 1132.060703920876,\n        \"num_unique_values\": 5,\n        \"samples\": [\n          456.9443278830593,\n          1132.060703920876,\n          926.79024292758\n        ],\n        \"semantic_type\": \"\",\n        \"description\": \"\"\n      }\n    },\n    {\n      \"column\": \"distribution_channel\",\n      \"properties\": {\n        \"dtype\": \"number\",\n        \"std\": 0,\n        \"min\": 0,\n        \"max\": 0,\n        \"num_unique_values\": 1,\n        \"samples\": [\n          0\n        ],\n        \"semantic_type\": \"\",\n        \"description\": \"\"\n      }\n    },\n    {\n      \"column\": \"customer\",\n      \"properties\": {\n        \"dtype\": \"number\",\n        \"std\": 0,\n        \"min\": 1,\n        \"max\": 1,\n        \"num_unique_values\": 1,\n        \"samples\": [\n          1\n        ],\n        \"semantic_type\": \"\",\n        \"description\": \"\"\n      }\n    },\n    {\n      \"column\": \"brand\",\n      \"properties\": {\n        \"dtype\": \"number\",\n        \"std\": 0,\n        \"min\": 1,\n        \"max\": 1,\n        \"num_unique_values\": 1,\n        \"samples\": [\n          1\n        ],\n        \"semantic_type\": \"\",\n        \"description\": \"\"\n      }\n    },\n    {\n      \"column\": \"channel\",\n      \"properties\": {\n        \"dtype\": \"category\",\n        \"num_unique_values\": 1,\n        \"samples\": [\n          \"FOOD SERVICE\"\n        ],\n        \"semantic_type\": \"\",\n        \"description\": \"\"\n      }\n    },\n    {\n      \"column\": \"store_format\",\n      \"properties\": {\n        \"dtype\": \"number\",\n        \"std\": 0,\n        \"min\": 3,\n        \"max\": 3,\n        \"num_unique_values\": 1,\n        \"samples\": [\n          3\n        ],\n        \"semantic_type\": \"\",\n        \"description\": \"\"\n      }\n    },\n    {\n      \"column\": \"category\",\n      \"properties\": {\n        \"dtype\": \"number\",\n        \"std\": 0,\n        \"min\": 3,\n        \"max\": 3,\n        \"num_unique_values\": 1,\n        \"samples\": [\n          3\n        ],\n        \"semantic_type\": \"\",\n        \"description\": \"\"\n      }\n    },\n    {\n      \"column\": \"year\",\n      \"properties\": {\n        \"dtype\": \"number\",\n        \"std\": 0,\n        \"min\": 2010,\n        \"max\": 2010,\n        \"num_unique_values\": 1,\n        \"samples\": [\n          2010\n        ],\n        \"semantic_type\": \"\",\n        \"description\": \"\"\n      }\n    },\n    {\n      \"column\": \"month\",\n      \"properties\": {\n        \"dtype\": \"number\",\n        \"std\": 1,\n        \"min\": 1,\n        \"max\": 5,\n        \"num_unique_values\": 5,\n        \"samples\": [\n          2\n        ],\n        \"semantic_type\": \"\",\n        \"description\": \"\"\n      }\n    }\n  ]\n}"
            }
          },
          "metadata": {}
        }
      ]
    },
    {
      "cell_type": "markdown",
      "source": [
        "Columns:\n",
        "\n",
        "- `volume_kg` - target variable: product volume sold\n",
        "- `distribution_channel` - product distribution channel id\n",
        "- `customer` - customer id\n",
        "- `brand` - brand id under which the product has been sold\n",
        "- `channel` - selling channel: 'FOOD SERVICE', 'DISCOUNTS' or 'MODERN TRADE'\n",
        "- `store_format` - store format id\n",
        "- `category` - category id, this identifies the type of snack\n",
        "- `year` - reference year for the dataset row\n",
        "- `month` - reference month for the dataset row.\n",
        "\n",
        "<br>\n",
        "\n",
        "Series are defined by all the variables except `volume_kg`, `year` and `month`.\\\n",
        "The **id** variables are `distribution_channel`, `customer`, `brand`, `channel`, `store_format`, `category`.\\\n",
        "They are categorical variables, and each unique combination represents an individual time series."
      ],
      "metadata": {
        "id": "mjRZ58Ipf_Rk"
      }
    },
    {
      "cell_type": "code",
      "source": [
        "data['date'] = pd.to_datetime(data[['year', 'month']].assign(day=1))"
      ],
      "metadata": {
        "id": "pgiFwiypfZXQ"
      },
      "execution_count": 8,
      "outputs": []
    },
    {
      "cell_type": "code",
      "source": [
        "data['custom_id'] = data.apply(lambda row:\n",
        "      f\"{row['distribution_channel']}_{row['customer']}_{row['brand']}_{row['channel']}_{row['store_format']}_{row['category']}\", axis=1)\n",
        "\n",
        "cols_to_drop = ['distribution_channel', 'customer', 'brand', 'channel',\n",
        "                        'store_format',  'category', 'year', 'month']\n",
        "\n",
        "data = data.drop(columns=cols_to_drop)"
      ],
      "metadata": {
        "id": "gV4TRHRkfZZf"
      },
      "execution_count": 9,
      "outputs": []
    },
    {
      "cell_type": "code",
      "source": [
        "display(data.head())"
      ],
      "metadata": {
        "colab": {
          "base_uri": "https://localhost:8080/",
          "height": 206
        },
        "id": "6Lesu6Gagjm7",
        "outputId": "1782eb6d-5e76-49c4-d79e-885f9c1e97bf"
      },
      "execution_count": 10,
      "outputs": [
        {
          "output_type": "display_data",
          "data": {
            "text/plain": [
              "     volume_kg       date               custom_id\n",
              "0   460.026585 2010-01-01  0_1_1_FOOD SERVICE_3_3\n",
              "1   456.944328 2010-02-01  0_1_1_FOOD SERVICE_3_3\n",
              "2   926.790243 2010-03-01  0_1_1_FOOD SERVICE_3_3\n",
              "3   762.549167 2010-04-01  0_1_1_FOOD SERVICE_3_3\n",
              "4  1132.060704 2010-05-01  0_1_1_FOOD SERVICE_3_3"
            ],
            "text/html": [
              "\n",
              "  <div id=\"df-025e53f7-0057-48da-ac80-cc91f8fa2e12\" class=\"colab-df-container\">\n",
              "    <div>\n",
              "<style scoped>\n",
              "    .dataframe tbody tr th:only-of-type {\n",
              "        vertical-align: middle;\n",
              "    }\n",
              "\n",
              "    .dataframe tbody tr th {\n",
              "        vertical-align: top;\n",
              "    }\n",
              "\n",
              "    .dataframe thead th {\n",
              "        text-align: right;\n",
              "    }\n",
              "</style>\n",
              "<table border=\"1\" class=\"dataframe\">\n",
              "  <thead>\n",
              "    <tr style=\"text-align: right;\">\n",
              "      <th></th>\n",
              "      <th>volume_kg</th>\n",
              "      <th>date</th>\n",
              "      <th>custom_id</th>\n",
              "    </tr>\n",
              "  </thead>\n",
              "  <tbody>\n",
              "    <tr>\n",
              "      <th>0</th>\n",
              "      <td>460.026585</td>\n",
              "      <td>2010-01-01</td>\n",
              "      <td>0_1_1_FOOD SERVICE_3_3</td>\n",
              "    </tr>\n",
              "    <tr>\n",
              "      <th>1</th>\n",
              "      <td>456.944328</td>\n",
              "      <td>2010-02-01</td>\n",
              "      <td>0_1_1_FOOD SERVICE_3_3</td>\n",
              "    </tr>\n",
              "    <tr>\n",
              "      <th>2</th>\n",
              "      <td>926.790243</td>\n",
              "      <td>2010-03-01</td>\n",
              "      <td>0_1_1_FOOD SERVICE_3_3</td>\n",
              "    </tr>\n",
              "    <tr>\n",
              "      <th>3</th>\n",
              "      <td>762.549167</td>\n",
              "      <td>2010-04-01</td>\n",
              "      <td>0_1_1_FOOD SERVICE_3_3</td>\n",
              "    </tr>\n",
              "    <tr>\n",
              "      <th>4</th>\n",
              "      <td>1132.060704</td>\n",
              "      <td>2010-05-01</td>\n",
              "      <td>0_1_1_FOOD SERVICE_3_3</td>\n",
              "    </tr>\n",
              "  </tbody>\n",
              "</table>\n",
              "</div>\n",
              "    <div class=\"colab-df-buttons\">\n",
              "\n",
              "  <div class=\"colab-df-container\">\n",
              "    <button class=\"colab-df-convert\" onclick=\"convertToInteractive('df-025e53f7-0057-48da-ac80-cc91f8fa2e12')\"\n",
              "            title=\"Convert this dataframe to an interactive table.\"\n",
              "            style=\"display:none;\">\n",
              "\n",
              "  <svg xmlns=\"http://www.w3.org/2000/svg\" height=\"24px\" viewBox=\"0 -960 960 960\">\n",
              "    <path d=\"M120-120v-720h720v720H120Zm60-500h600v-160H180v160Zm220 220h160v-160H400v160Zm0 220h160v-160H400v160ZM180-400h160v-160H180v160Zm440 0h160v-160H620v160ZM180-180h160v-160H180v160Zm440 0h160v-160H620v160Z\"/>\n",
              "  </svg>\n",
              "    </button>\n",
              "\n",
              "  <style>\n",
              "    .colab-df-container {\n",
              "      display:flex;\n",
              "      gap: 12px;\n",
              "    }\n",
              "\n",
              "    .colab-df-convert {\n",
              "      background-color: #E8F0FE;\n",
              "      border: none;\n",
              "      border-radius: 50%;\n",
              "      cursor: pointer;\n",
              "      display: none;\n",
              "      fill: #1967D2;\n",
              "      height: 32px;\n",
              "      padding: 0 0 0 0;\n",
              "      width: 32px;\n",
              "    }\n",
              "\n",
              "    .colab-df-convert:hover {\n",
              "      background-color: #E2EBFA;\n",
              "      box-shadow: 0px 1px 2px rgba(60, 64, 67, 0.3), 0px 1px 3px 1px rgba(60, 64, 67, 0.15);\n",
              "      fill: #174EA6;\n",
              "    }\n",
              "\n",
              "    .colab-df-buttons div {\n",
              "      margin-bottom: 4px;\n",
              "    }\n",
              "\n",
              "    [theme=dark] .colab-df-convert {\n",
              "      background-color: #3B4455;\n",
              "      fill: #D2E3FC;\n",
              "    }\n",
              "\n",
              "    [theme=dark] .colab-df-convert:hover {\n",
              "      background-color: #434B5C;\n",
              "      box-shadow: 0px 1px 3px 1px rgba(0, 0, 0, 0.15);\n",
              "      filter: drop-shadow(0px 1px 2px rgba(0, 0, 0, 0.3));\n",
              "      fill: #FFFFFF;\n",
              "    }\n",
              "  </style>\n",
              "\n",
              "    <script>\n",
              "      const buttonEl =\n",
              "        document.querySelector('#df-025e53f7-0057-48da-ac80-cc91f8fa2e12 button.colab-df-convert');\n",
              "      buttonEl.style.display =\n",
              "        google.colab.kernel.accessAllowed ? 'block' : 'none';\n",
              "\n",
              "      async function convertToInteractive(key) {\n",
              "        const element = document.querySelector('#df-025e53f7-0057-48da-ac80-cc91f8fa2e12');\n",
              "        const dataTable =\n",
              "          await google.colab.kernel.invokeFunction('convertToInteractive',\n",
              "                                                    [key], {});\n",
              "        if (!dataTable) return;\n",
              "\n",
              "        const docLinkHtml = 'Like what you see? Visit the ' +\n",
              "          '<a target=\"_blank\" href=https://colab.research.google.com/notebooks/data_table.ipynb>data table notebook</a>'\n",
              "          + ' to learn more about interactive tables.';\n",
              "        element.innerHTML = '';\n",
              "        dataTable['output_type'] = 'display_data';\n",
              "        await google.colab.output.renderOutput(dataTable, element);\n",
              "        const docLink = document.createElement('div');\n",
              "        docLink.innerHTML = docLinkHtml;\n",
              "        element.appendChild(docLink);\n",
              "      }\n",
              "    </script>\n",
              "  </div>\n",
              "\n",
              "\n",
              "<div id=\"df-9f641100-a9bf-488d-862a-6580c8df8afb\">\n",
              "  <button class=\"colab-df-quickchart\" onclick=\"quickchart('df-9f641100-a9bf-488d-862a-6580c8df8afb')\"\n",
              "            title=\"Suggest charts\"\n",
              "            style=\"display:none;\">\n",
              "\n",
              "<svg xmlns=\"http://www.w3.org/2000/svg\" height=\"24px\"viewBox=\"0 0 24 24\"\n",
              "     width=\"24px\">\n",
              "    <g>\n",
              "        <path d=\"M19 3H5c-1.1 0-2 .9-2 2v14c0 1.1.9 2 2 2h14c1.1 0 2-.9 2-2V5c0-1.1-.9-2-2-2zM9 17H7v-7h2v7zm4 0h-2V7h2v10zm4 0h-2v-4h2v4z\"/>\n",
              "    </g>\n",
              "</svg>\n",
              "  </button>\n",
              "\n",
              "<style>\n",
              "  .colab-df-quickchart {\n",
              "      --bg-color: #E8F0FE;\n",
              "      --fill-color: #1967D2;\n",
              "      --hover-bg-color: #E2EBFA;\n",
              "      --hover-fill-color: #174EA6;\n",
              "      --disabled-fill-color: #AAA;\n",
              "      --disabled-bg-color: #DDD;\n",
              "  }\n",
              "\n",
              "  [theme=dark] .colab-df-quickchart {\n",
              "      --bg-color: #3B4455;\n",
              "      --fill-color: #D2E3FC;\n",
              "      --hover-bg-color: #434B5C;\n",
              "      --hover-fill-color: #FFFFFF;\n",
              "      --disabled-bg-color: #3B4455;\n",
              "      --disabled-fill-color: #666;\n",
              "  }\n",
              "\n",
              "  .colab-df-quickchart {\n",
              "    background-color: var(--bg-color);\n",
              "    border: none;\n",
              "    border-radius: 50%;\n",
              "    cursor: pointer;\n",
              "    display: none;\n",
              "    fill: var(--fill-color);\n",
              "    height: 32px;\n",
              "    padding: 0;\n",
              "    width: 32px;\n",
              "  }\n",
              "\n",
              "  .colab-df-quickchart:hover {\n",
              "    background-color: var(--hover-bg-color);\n",
              "    box-shadow: 0 1px 2px rgba(60, 64, 67, 0.3), 0 1px 3px 1px rgba(60, 64, 67, 0.15);\n",
              "    fill: var(--button-hover-fill-color);\n",
              "  }\n",
              "\n",
              "  .colab-df-quickchart-complete:disabled,\n",
              "  .colab-df-quickchart-complete:disabled:hover {\n",
              "    background-color: var(--disabled-bg-color);\n",
              "    fill: var(--disabled-fill-color);\n",
              "    box-shadow: none;\n",
              "  }\n",
              "\n",
              "  .colab-df-spinner {\n",
              "    border: 2px solid var(--fill-color);\n",
              "    border-color: transparent;\n",
              "    border-bottom-color: var(--fill-color);\n",
              "    animation:\n",
              "      spin 1s steps(1) infinite;\n",
              "  }\n",
              "\n",
              "  @keyframes spin {\n",
              "    0% {\n",
              "      border-color: transparent;\n",
              "      border-bottom-color: var(--fill-color);\n",
              "      border-left-color: var(--fill-color);\n",
              "    }\n",
              "    20% {\n",
              "      border-color: transparent;\n",
              "      border-left-color: var(--fill-color);\n",
              "      border-top-color: var(--fill-color);\n",
              "    }\n",
              "    30% {\n",
              "      border-color: transparent;\n",
              "      border-left-color: var(--fill-color);\n",
              "      border-top-color: var(--fill-color);\n",
              "      border-right-color: var(--fill-color);\n",
              "    }\n",
              "    40% {\n",
              "      border-color: transparent;\n",
              "      border-right-color: var(--fill-color);\n",
              "      border-top-color: var(--fill-color);\n",
              "    }\n",
              "    60% {\n",
              "      border-color: transparent;\n",
              "      border-right-color: var(--fill-color);\n",
              "    }\n",
              "    80% {\n",
              "      border-color: transparent;\n",
              "      border-right-color: var(--fill-color);\n",
              "      border-bottom-color: var(--fill-color);\n",
              "    }\n",
              "    90% {\n",
              "      border-color: transparent;\n",
              "      border-bottom-color: var(--fill-color);\n",
              "    }\n",
              "  }\n",
              "</style>\n",
              "\n",
              "  <script>\n",
              "    async function quickchart(key) {\n",
              "      const quickchartButtonEl =\n",
              "        document.querySelector('#' + key + ' button');\n",
              "      quickchartButtonEl.disabled = true;  // To prevent multiple clicks.\n",
              "      quickchartButtonEl.classList.add('colab-df-spinner');\n",
              "      try {\n",
              "        const charts = await google.colab.kernel.invokeFunction(\n",
              "            'suggestCharts', [key], {});\n",
              "      } catch (error) {\n",
              "        console.error('Error during call to suggestCharts:', error);\n",
              "      }\n",
              "      quickchartButtonEl.classList.remove('colab-df-spinner');\n",
              "      quickchartButtonEl.classList.add('colab-df-quickchart-complete');\n",
              "    }\n",
              "    (() => {\n",
              "      let quickchartButtonEl =\n",
              "        document.querySelector('#df-9f641100-a9bf-488d-862a-6580c8df8afb button');\n",
              "      quickchartButtonEl.style.display =\n",
              "        google.colab.kernel.accessAllowed ? 'block' : 'none';\n",
              "    })();\n",
              "  </script>\n",
              "</div>\n",
              "\n",
              "    </div>\n",
              "  </div>\n"
            ],
            "application/vnd.google.colaboratory.intrinsic+json": {
              "type": "dataframe",
              "summary": "{\n  \"name\": \"display(data\",\n  \"rows\": 5,\n  \"fields\": [\n    {\n      \"column\": \"volume_kg\",\n      \"properties\": {\n        \"dtype\": \"number\",\n        \"std\": 294.67007610864243,\n        \"min\": 456.9443278830593,\n        \"max\": 1132.060703920876,\n        \"num_unique_values\": 5,\n        \"samples\": [\n          456.9443278830593,\n          1132.060703920876,\n          926.79024292758\n        ],\n        \"semantic_type\": \"\",\n        \"description\": \"\"\n      }\n    },\n    {\n      \"column\": \"date\",\n      \"properties\": {\n        \"dtype\": \"date\",\n        \"min\": \"2010-01-01 00:00:00\",\n        \"max\": \"2010-05-01 00:00:00\",\n        \"num_unique_values\": 5,\n        \"samples\": [\n          \"2010-02-01 00:00:00\",\n          \"2010-05-01 00:00:00\",\n          \"2010-03-01 00:00:00\"\n        ],\n        \"semantic_type\": \"\",\n        \"description\": \"\"\n      }\n    },\n    {\n      \"column\": \"custom_id\",\n      \"properties\": {\n        \"dtype\": \"category\",\n        \"num_unique_values\": 1,\n        \"samples\": [\n          \"0_1_1_FOOD SERVICE_3_3\"\n        ],\n        \"semantic_type\": \"\",\n        \"description\": \"\"\n      }\n    }\n  ]\n}"
            }
          },
          "metadata": {}
        }
      ]
    },
    {
      "cell_type": "code",
      "source": [
        "def get_series(data, serie_index):\n",
        "\n",
        "  serie_names = data['custom_id'].unique()\n",
        "\n",
        "  if serie_index >= len(serie_names):\n",
        "    raise IndexError('Index out of range')\n",
        "\n",
        "  this_name = serie_names[serie_index]\n",
        "  this_serie = data[data['custom_id'] == this_name].reset_index(drop=True)\n",
        "  this_serie = this_serie.set_index('date')\n",
        "\n",
        "  return this_serie"
      ],
      "metadata": {
        "id": "NHGif3Pxgat4"
      },
      "execution_count": 11,
      "outputs": []
    },
    {
      "cell_type": "code",
      "source": [
        "serie_names = data['custom_id'].unique()\n",
        "\n",
        "print(f'Number of Series: {len(serie_names)}')"
      ],
      "metadata": {
        "colab": {
          "base_uri": "https://localhost:8080/"
        },
        "id": "54hwSxWMgsmV",
        "outputId": "256b4234-66f4-40f6-dbc1-e39039ace734"
      },
      "execution_count": 12,
      "outputs": [
        {
          "output_type": "stream",
          "name": "stdout",
          "text": [
            "Number of Series: 48\n"
          ]
        }
      ]
    },
    {
      "cell_type": "code",
      "source": [
        "all_series = [get_series(data, serie_index=i) for i in range(len(serie_names))]"
      ],
      "metadata": {
        "id": "lNpKiPCihVwC"
      },
      "execution_count": 13,
      "outputs": []
    },
    {
      "cell_type": "code",
      "source": [
        "def count_data_points_and_missing_dates(group):\n",
        "\n",
        "    group = group.asfreq('MS')\n",
        "    count = group['volume_kg'].count()\n",
        "    missing_dates = group['volume_kg'].isna().sum()\n",
        "\n",
        "    return count, missing_dates"
      ],
      "metadata": {
        "id": "P3hsNsCIgsp3"
      },
      "execution_count": 14,
      "outputs": []
    },
    {
      "cell_type": "code",
      "source": [
        "count =  dict(Counter([count_data_points_and_missing_dates(serie) for serie in all_series]).items())\n",
        "\n",
        "for k, c in count.items():\n",
        "  print(f'{c:>2} TimeSeries of lenght {k[0]:>3} -> {k[1]:>2} missing values')"
      ],
      "metadata": {
        "colab": {
          "base_uri": "https://localhost:8080/"
        },
        "id": "Sy39XiJvmCAL",
        "outputId": "8f7b6c2c-4327-4440-8b3d-6d545b2b2dfe"
      },
      "execution_count": 15,
      "outputs": [
        {
          "output_type": "stream",
          "name": "stdout",
          "text": [
            " 2 TimeSeries of lenght 121 ->  3 missing values\n",
            "36 TimeSeries of lenght 124 ->  0 missing values\n",
            " 5 TimeSeries of lenght 123 ->  1 missing values\n",
            " 1 TimeSeries of lenght 119 ->  5 missing values\n",
            " 1 TimeSeries of lenght 120 ->  4 missing values\n",
            " 2 TimeSeries of lenght  65 ->  0 missing values\n",
            " 1 TimeSeries of lenght 103 -> 21 missing values\n"
          ]
        }
      ]
    },
    {
      "cell_type": "code",
      "source": [
        "n_bars = range(len(count.keys()))\n",
        "\n",
        "colors = plt.cm.viridis(np.linspace(0, 1, len(n_bars)))\n",
        "labels = [f'Len: {x[0]:>3} - NaN: {x[1]:>2}' for x in count.keys()]\n",
        "\n",
        "plt.figure(figsize=(7, 4))\n",
        "plt.barh(n_bars, count.values(), tick_label=labels, color=colors)\n",
        "\n",
        "plt.title('\\n')\n",
        "plt.xlabel('\\n Number of Time Series \\n')\n",
        "\n",
        "plt.xticks(rotation=45)\n",
        "plt.tight_layout()\n",
        "plt.grid('--', alpha=0.5)\n",
        "\n",
        "plt.show()"
      ],
      "metadata": {
        "colab": {
          "base_uri": "https://localhost:8080/",
          "height": 407
        },
        "id": "nGJK_8ESmsub",
        "outputId": "a90f1acb-bc30-4a4a-cc25-288bf88e281e"
      },
      "execution_count": 16,
      "outputs": [
        {
          "output_type": "display_data",
          "data": {
            "text/plain": [
              "<Figure size 700x400 with 1 Axes>"
            ],
            "image/png": "[encoded data removed]"
          },
          "metadata": {}
        }
      ]
    },
    {
      "cell_type": "code",
      "source": [
        "## Trend, Seasonality and Residuals for first Time Serie:\n",
        "\n",
        "decomposition = seasonal_decompose(all_series[0].drop(columns=[\"custom_id\"]), model='additive', period=12)\n",
        "\n",
        "components = [('Observed', decomposition.observed), ('Residuals', decomposition.resid),\n",
        "              (   'Trend', decomposition.trend),    ('Seasonality', decomposition.seasonal)]\n",
        "\n",
        "fig, ax = plt.subplots(2, 2, figsize=(10, 5), sharex=True)\n",
        "\n",
        "for idx, (comp_title, comp_data) in enumerate(components):\n",
        "  row, col = divmod(idx, 2)\n",
        "  ax[row][col].plot(comp_data, linewidth=1)\n",
        "  ax[row][col].set_title(comp_title)\n",
        "  ax[row][col].grid('-', alpha=0.5)\n",
        "\n",
        "plt.show()\n"
      ],
      "metadata": {
        "colab": {
          "base_uri": "https://localhost:8080/",
          "height": 468
        },
        "id": "1n1qTxvlfPE0",
        "outputId": "48a900cb-d294-4b19-8378-0730c95ebba7"
      },
      "execution_count": 17,
      "outputs": [
        {
          "output_type": "display_data",
          "data": {
            "text/plain": [
              "<Figure size 1000x500 with 4 Axes>"
            ],
            "image/png": "[encoded data removed]"
          },
          "metadata": {}
        }
      ]
    },
    {
      "cell_type": "code",
      "source": [
        "## Testing for Stationarity:\n",
        "\n",
        "stationarity = []\n",
        "non_stationarity = []\n",
        "\n",
        "for indx in range(len(serie_names)):\n",
        "\n",
        "  this_serie_name = serie_names[indx]\n",
        "  this_serie = get_series(data, serie_index=indx)\n",
        "\n",
        "  adfuller_test = adfuller(this_serie['volume_kg'])\n",
        "\n",
        "  if adfuller_test[1] < 0.05: stationarity.append((this_serie_name, indx))   ## p-value\n",
        "  else: non_stationarity.append((this_serie_name, indx))\n",
        "\n",
        "print(f'{\"\":>5}Stationary Time Series: {len(stationarity)}')\n",
        "print(f' Non-Stationary Time Series: {len(non_stationarity)}')"
      ],
      "metadata": {
        "colab": {
          "base_uri": "https://localhost:8080/"
        },
        "id": "OZ1macRYOBdg",
        "outputId": "07e22f22-e0c5-4d8c-81af-14dbaeee2531"
      },
      "execution_count": 18,
      "outputs": [
        {
          "output_type": "stream",
          "name": "stdout",
          "text": [
            "     Stationary Time Series: 14\n",
            " Non-Stationary Time Series: 34\n"
          ]
        }
      ]
    },
    {
      "cell_type": "markdown",
      "source": [
        "-------------------------------------------------------------"
      ],
      "metadata": {
        "id": "z5SnXx9GvFLw"
      }
    },
    {
      "cell_type": "markdown",
      "source": [
        "## <h2><center>ARIMA</center></h2>"
      ],
      "metadata": {
        "id": "3BCpg1JOunUk"
      }
    },
    {
      "cell_type": "code",
      "source": [
        "def split_train_test(la_mia_serie, date_of_division = '2020-04-01'):\n",
        "\n",
        "  train = la_mia_serie.loc[la_mia_serie.index < date_of_division].copy()\n",
        "  test = la_mia_serie.loc[la_mia_serie.index >= date_of_division].copy()\n",
        "\n",
        "  return train, test"
      ],
      "metadata": {
        "id": "ScWNcEQdXn8-"
      },
      "execution_count": 19,
      "outputs": []
    },
    {
      "cell_type": "code",
      "source": [
        "test_start_dt = '2019-01-01'\n",
        "indx = 0\n",
        "\n",
        "this_serie_name = serie_names[indx]\n",
        "this_serie = get_series(data, serie_index=indx)\n",
        "\n",
        "train, test = split_train_test(this_serie, date_of_division = test_start_dt)\n",
        "\n",
        "print(f'>> train.shape: {train.shape}')\n",
        "print(f'>> test.shape: {str(test.shape):>8}')"
      ],
      "metadata": {
        "colab": {
          "base_uri": "https://localhost:8080/"
        },
        "id": "Yy6ftSJcUtAx",
        "outputId": "d63f0d45-a326-4cbe-affc-d1ccfd7c6ec0"
      },
      "execution_count": 20,
      "outputs": [
        {
          "output_type": "stream",
          "name": "stdout",
          "text": [
            ">> train.shape: (105, 2)\n",
            ">> test.shape:  (16, 2)\n"
          ]
        }
      ]
    },
    {
      "cell_type": "code",
      "source": [
        "fig, ax = plt.subplots(figsize=(8, 3.5))\n",
        "\n",
        "train.plot(ax=ax, label='Training Set', title='\\n Train/Valid Split \\n')\n",
        "test.plot(ax=ax, label='Test Set')\n",
        "\n",
        "ax.axvline(test_start_dt, color='black', ls='--', alpha=0.25)\n",
        "\n",
        "plt.ylabel('\\n volume_kg \\n', fontsize=11)\n",
        "plt.legend(['Train Set', 'Valid Set'], loc='upper right')\n",
        "plt.grid('-', alpha=0.5)\n",
        "\n",
        "plt.xlabel('')\n",
        "plt.show()"
      ],
      "metadata": {
        "colab": {
          "base_uri": "https://localhost:8080/",
          "height": 378
        },
        "id": "lxBr0WCJUtDv",
        "outputId": "83ce76c3-2886-4794-86a5-0992372ba03c"
      },
      "execution_count": 21,
      "outputs": [
        {
          "output_type": "display_data",
          "data": {
            "text/plain": [
              "<Figure size 800x350 with 1 Axes>"
            ],
            "image/png": "[encoded data removed]"
          },
          "metadata": {}
        }
      ]
    },
    {
      "cell_type": "code",
      "source": [
        "mape_score_list = []           ## order = (5, 1, 0)\n",
        "valid_df = []\n",
        "kaggle_results = []\n",
        "\n",
        "test_start_dt = '2019-01-01'\n",
        "\n",
        "for indx in tqdm(range(len(serie_names))):\n",
        "\n",
        "    this_serie_name = serie_names[indx]\n",
        "    this_serie = get_series(data, serie_index=indx)\n",
        "    this_serie = this_serie\n",
        "\n",
        "    train, test = split_train_test(this_serie, date_of_division=test_start_dt)\n",
        "\n",
        "    ###############################################################\n",
        "    model = ARIMA(train['volume_kg'].asfreq('MS'), order=(5, 1, 0))\n",
        "    model_fit = model.fit()\n",
        "#   #######################\n",
        "\n",
        "    train['predictions'] = model_fit.predict(start=train.index.min(), end=test_start_dt)\n",
        "    test['predictions'] = model_fit.predict(start=test_start_dt, end=test.index[-1])\n",
        "#\n",
        "    mape = mean_absolute_percentage_error(test['volume_kg'], test['predictions'])\n",
        "    mape_score_list.append(mape)\n",
        "    valid_df.append(test)\n",
        "\n",
        "    ## prediction for Kaggle:\n",
        "    k_pred = model_fit.predict(start='2020-05-01', end='2020-08-01')\n",
        "\n",
        "    k_data = pd.DataFrame(k_pred)\n",
        "    k_data['custom_id'] = [this_serie_name]*len(k_data)\n",
        "    kaggle_results.append(k_data)\n",
        "\n",
        "kaggle_df = pd.concat(kaggle_results)\n",
        "valid_df = pd.concat(valid_df)"
      ],
      "metadata": {
        "colab": {
          "base_uri": "https://localhost:8080/",
          "height": 49,
          "referenced_widgets": [
            "063d9f2e97be42c1a35325be85df60eb",
            "3242015c625743efbff14696e122da34",
            "4f205330c97546b1a5401a244cc0d078",
            "82f49597fd1e451ab15b11a4affd0895",
            "355392aebd0e4fe59cd3a30602072b9b",
            "8cf9a311c95a4819bfbc4ec98bd1b870",
            "540606dd22274c84a3a7e9ba082908dd",
            "3bcfaf591aac4ddc96e35acef9d56f23",
            "7b437496df7d4c9b94d75b2e367241ba",
            "cead5ee32f354b7088be8071315a8c47",
            "c0e6d6786d6a4edeb1d4b7bdb5388c1d"
          ]
        },
        "id": "jk2GsfL5UtTw",
        "outputId": "cfdb20f0-06a6-49aa-e6cf-58b4918efc7e"
      },
      "execution_count": 22,
      "outputs": [
        {
          "output_type": "display_data",
          "data": {
            "text/plain": [
              "  0%|          | 0/48 [00:00<?, ?it/s]"
            ],
            "application/vnd.jupyter.widget-view+json": {
              "version_major": 2,
              "version_minor": 0,
              "model_id": "063d9f2e97be42c1a35325be85df60eb"
            }
          },
          "metadata": {}
        }
      ]
    },
    {
      "cell_type": "code",
      "source": [
        "kaggle_sub = kaggle_df.copy()\n",
        "\n",
        "kaggle_sub['id'] = kaggle_df.index.year.astype(str)+ '_' +kaggle_df.index.month.astype(str)+ '_' + kaggle_df['custom_id']\n",
        "\n",
        "volumes = kaggle_sub['predicted_mean']\n",
        "\n",
        "kaggle_sub = kaggle_sub.drop(columns=['custom_id', 'predicted_mean'])\n",
        "kaggle_sub['volume_kg'] = volumes\n",
        "kaggle_sub = kaggle_sub.reset_index(drop=True)\n",
        "\n",
        "\n",
        "filename = 'submission_ARIMA.csv'\n",
        "\n",
        "if not os.path.exists('submissions/'):\n",
        "  os.makedirs('submissions/')\n",
        "\n",
        "kaggle_sub.to_csv('submissions/'+filename, index=False)\n",
        "print(f'>> Saved {filename} - shape: {kaggle_sub.shape} - {list(kaggle_sub.columns)}')"
      ],
      "metadata": {
        "colab": {
          "base_uri": "https://localhost:8080/"
        },
        "id": "Rr-dgYrvqNmh",
        "outputId": "1ff4a081-8f7e-4d92-d583-25f5d916f781"
      },
      "execution_count": 23,
      "outputs": [
        {
          "output_type": "stream",
          "name": "stdout",
          "text": [
            ">> Saved submission_ARIMA.csv - shape: (192, 2) - ['id', 'volume_kg']\n"
          ]
        }
      ]
    },
    {
      "cell_type": "code",
      "source": [
        "## Metrics on Validation Set:\n",
        "\n",
        "valid_df['id'] = valid_df.index.year.astype(str)+ '_' +valid_df.index.month.astype(str)+ '_' + valid_df['custom_id']\n",
        "\n",
        "volumes = valid_df['volume_kg']\n",
        "predictions = valid_df['predictions']\n",
        "cols_to_drop = ['custom_id', 'predictions', 'volume_kg']\n",
        "\n",
        "my_val_pred = valid_df.drop(columns=cols_to_drop)\n",
        "valid_label = valid_df.drop(columns=cols_to_drop)\n",
        "\n",
        "my_val_pred['volume_kg'] = predictions\n",
        "valid_label['volume_kg'] = volumes\n",
        "\n",
        "my_val_pred = my_val_pred.reset_index(drop=True)\n",
        "valid_label = valid_label.reset_index(drop=True)"
      ],
      "metadata": {
        "id": "dz6uYWUQUtVf"
      },
      "execution_count": 24,
      "outputs": []
    },
    {
      "cell_type": "code",
      "source": [
        "kaggle_score = mape_score_function(solution = valid_label,\n",
        "                                   submission = my_val_pred,\n",
        "                                   row_id_column_name = 'id')\n",
        "\n",
        "avg_mape = np.mean(mape_score_list)\n",
        "\n",
        "print(f' >> kaggle_score: {kaggle_score:>.3f} | mape: {avg_mape:>.3f}')\n",
        "\n",
        "global_solution = solution_to_global(valid_label, row_id_column_name='id')\n",
        "global_submission = solution_to_global( my_val_pred, row_id_column_name='id')\n",
        "\n",
        "global_mape = mean_absolute_percentage_error(global_solution.to_numpy(),\n",
        "                                             global_submission.to_numpy())\n",
        "\n",
        "mape = mean_absolute_percentage_error(valid_label[\"volume_kg\"].to_numpy(),\n",
        "                                      my_val_pred[\"volume_kg\"].to_numpy())\n",
        "\n",
        "test_score = (3 * mape + global_mape) / 4\n",
        "\n",
        "print(f' >> kaggle_score: {test_score:>.3f} | mape: {mape:>.3f} | global_mape: {global_mape:>.3f}')"
      ],
      "metadata": {
        "colab": {
          "base_uri": "https://localhost:8080/"
        },
        "id": "sS_CIPM6ixXz",
        "outputId": "e2a411a4-df39-4054-fb75-0057b9d129a5"
      },
      "execution_count": 25,
      "outputs": [
        {
          "output_type": "stream",
          "name": "stdout",
          "text": [
            " >> kaggle_score: 0.584 | mape: 0.743\n",
            " >> kaggle_score: 0.584 | mape: 0.741 | global_mape: 0.112\n"
          ]
        }
      ]
    },
    {
      "cell_type": "markdown",
      "source": [
        "-------------------------------------------"
      ],
      "metadata": {
        "id": "441Q0k3Dkb0F"
      }
    },
    {
      "cell_type": "markdown",
      "source": [
        "## Prophet"
      ],
      "metadata": {
        "id": "aT01HCtFk4Od"
      }
    },
    {
      "cell_type": "code",
      "source": [],
      "metadata": {
        "id": "hgdJiNHi8Z9m"
      },
      "execution_count": 25,
      "outputs": []
    },
    {
      "cell_type": "code",
      "source": [],
      "metadata": {
        "id": "OeNl1ra0XH1f"
      },
      "execution_count": 25,
      "outputs": []
    },
    {
      "cell_type": "code",
      "source": [],
      "metadata": {
        "id": "nbJ8A_j_bs3H"
      },
      "execution_count": 25,
      "outputs": []
    },
    {
      "cell_type": "markdown",
      "source": [
        "## <h2><center>**XGBoost**</center></h2>"
      ],
      "metadata": {
        "id": "h4aPIdF6oMpS"
      }
    },
    {
      "cell_type": "code",
      "source": [
        "import xgboost as xgb"
      ],
      "metadata": {
        "id": "xHKLShSP8aA2"
      },
      "execution_count": 26,
      "outputs": []
    },
    {
      "cell_type": "code",
      "source": [
        "one_serie = get_series(data, serie_index=0)\n",
        "\n",
        "d_day = '2018-09-01'\n",
        "\n",
        "train, valid = split_train_test(one_serie, date_of_division = d_day)\n",
        "\n",
        "print(f'Serie.shape: {one_serie.shape} \\n')\n",
        "\n",
        "print(f'>> Train: {train.shape}')\n",
        "print(f'>> Valid: {valid.shape}')"
      ],
      "metadata": {
        "colab": {
          "base_uri": "https://localhost:8080/"
        },
        "id": "tgEAbhNR1NnS",
        "outputId": "8e9fadd9-14c8-4170-ee23-35d5f2034841"
      },
      "execution_count": 27,
      "outputs": [
        {
          "output_type": "stream",
          "name": "stdout",
          "text": [
            "Serie.shape: (121, 2) \n",
            "\n",
            ">> Train: (101, 2)\n",
            ">> Valid: (20, 2)\n"
          ]
        }
      ]
    },
    {
      "cell_type": "code",
      "source": [
        "fig, ax = plt.subplots(figsize=(8, 3.5))\n",
        "\n",
        "train.plot(ax=ax, label='Training Set', title='\\n Train/Valid Split \\n')\n",
        "valid.plot(ax=ax, label='Test Set')\n",
        "\n",
        "ax.axvline(d_day, color='black', ls='--', alpha=0.25)\n",
        "\n",
        "plt.ylabel('\\n volume_kg \\n', fontsize=11)\n",
        "plt.legend(['Train Set', 'Valid Set'], loc='upper right')\n",
        "plt.grid('-', alpha=0.5)\n",
        "\n",
        "plt.xlabel('')\n",
        "plt.show()"
      ],
      "metadata": {
        "colab": {
          "base_uri": "https://localhost:8080/",
          "height": 378
        },
        "id": "T19xIMw44nJ0",
        "outputId": "e1dcd382-06ef-479b-cdb6-771bd3dc892d"
      },
      "execution_count": 28,
      "outputs": [
        {
          "output_type": "display_data",
          "data": {
            "text/plain": [
              "<Figure size 800x350 with 1 Axes>"
            ],
            "image/png": "[encoded data removed]"
          },
          "metadata": {}
        }
      ]
    },
    {
      "cell_type": "code",
      "source": [
        "# detect and remove outliers with StatsModels.Seasonal_decompose\n",
        "\n",
        "def remove_outliers_seasonal(dataframe: pd.DataFrame, model='additive', sigma=3, fill=False):\n",
        "\n",
        "    decomposition = seasonal_decompose(dataframe['volume_kg'], model=model, period=12)\n",
        "\n",
        "    residual = decomposition.resid\n",
        "    mean_resid = residual.mean()\n",
        "    std_resid = residual.std()\n",
        "\n",
        "    outliers = (residual - mean_resid).abs() > (sigma * std_resid)    # detect outliers\n",
        "    df_no_outliers = dataframe[~outliers]                             # remove outliers\n",
        "\n",
        "    # fill outliers with trend + seasonality:\n",
        "    if fill ==True:\n",
        "\n",
        "      trend_seasonal = decomposition.trend + decomposition.seasonal\n",
        "      dataframe['volume_kg'] = np.where(outliers, trend_seasonal, dataframe['volume_kg'])\n",
        "      return dataframe\n",
        "\n",
        "    return df_no_outliers"
      ],
      "metadata": {
        "id": "EPdZqgQbvyp_"
      },
      "execution_count": 29,
      "outputs": []
    },
    {
      "cell_type": "code",
      "source": [
        "grouped = data.groupby('custom_id')\n",
        "\n",
        "df_no_outliers = grouped.apply(remove_outliers_seasonal, fill=False).reset_index(drop=True)\n",
        "\n",
        "print(f'    Original data: {data.shape}')\n",
        "print(f' Without Outliers: {df_no_outliers.shape}')\n",
        "\n",
        "filled_df = grouped.apply(remove_outliers_seasonal, fill=True).reset_index(drop=True)"
      ],
      "metadata": {
        "colab": {
          "base_uri": "https://localhost:8080/"
        },
        "id": "CHdSigNF0qhK",
        "outputId": "0ead1313-4255-4db2-a30f-ac6b8bfbe009"
      },
      "execution_count": 30,
      "outputs": [
        {
          "output_type": "stream",
          "name": "stdout",
          "text": [
            "    Original data: (5793, 3)\n",
            " Without Outliers: (5732, 3)\n"
          ]
        }
      ]
    },
    {
      "cell_type": "code",
      "source": [
        "def compute_features(df):\n",
        "\n",
        "    df = df.copy()\n",
        "    df['year'] = df.index.year\n",
        "    df['dayofyear'] = df.index.dayofyear\n",
        "    df['quarter'] = df.index.quarter\n",
        "    df['semester'] = np.where(df['quarter'] > 2,2,1)\n",
        "    df['month'] = df.index.month\n",
        "\n",
        "    #df['lag_1'] = df['volume_kg'].shift(1)\n",
        "    #df['lag_2'] = df['volume_kg'].shift(2)\n",
        "\n",
        "    return df"
      ],
      "metadata": {
        "id": "iJqYbWL1oc95"
      },
      "execution_count": 31,
      "outputs": []
    },
    {
      "cell_type": "code",
      "source": [
        "d_day = '2017-09-01'\n",
        "\n",
        "mape_scores_list = []\n",
        "kaggle_prediction = []\n",
        "\n",
        "valid_prediction_list = []\n",
        "validation_gtrue_list = []\n",
        "\n",
        "serie_names = data['custom_id'].unique()\n",
        "\n",
        "features = ['year', 'dayofyear', 'quarter', 'semester', 'month']\n",
        "target = 'volume_kg'\n",
        "\n",
        "for indx in tqdm(range(len(serie_names))):\n",
        "\n",
        "  this_serie_name = serie_names[indx]\n",
        "  this_serie = get_series(df_no_outliers, serie_index=indx)\n",
        "\n",
        "  this_serie = compute_features(this_serie)\n",
        "\n",
        "  #split_index = int(len(this_serie) * (1 - test_size))\n",
        "  #d_day = this_serie.index[split_index]\n",
        "\n",
        "  train, test = split_train_test(this_serie, date_of_division = d_day)\n",
        "\n",
        "  X_train = train[features]\n",
        "  y_train = train[target]\n",
        "\n",
        "  X_valid = test[features]\n",
        "  y_valid= test[target]\n",
        "\n",
        "  reg = xgb.XGBRegressor(base_score=0.5,\n",
        "                        booster='gbtree',\n",
        "                        n_estimators=1000,\n",
        "                        early_stopping_rounds=50,\n",
        "                        objective='reg:squarederror',\n",
        "                        max_depth=3,\n",
        "                        learning_rate=0.01)\n",
        "\n",
        "  _ = reg.fit(X_train, y_train, eval_set=[(X_train, y_train), (X_valid, y_valid)], verbose=0)\n",
        "\n",
        "  valid_predictions = reg.predict(X_valid)\n",
        "  vscore = mean_absolute_percentage_error(y_valid, valid_predictions)\n",
        "  mape_scores_list.append(vscore)\n",
        "\n",
        "  for i, val_pred in enumerate(valid_predictions):\n",
        "    valid_prediction_list.append({'custom_id': this_serie_name,\n",
        "                                       'year': test.index[i].year,\n",
        "                                      'month': test.index[i].month,\n",
        "                                  'volume_kg': val_pred})\n",
        "\n",
        "  for i, ground_true in enumerate(y_valid):\n",
        "        validation_gtrue_list.append({'custom_id': this_serie_name,\n",
        "                                           'year': test.index[i].year,\n",
        "                                          'month': test.index[i].month,\n",
        "                                      'volume_kg': ground_true})\n",
        "\n",
        "  test_set = build_test_set(this_serie, compute_features)\n",
        "  predictions = reg.predict(test_set)\n",
        "#\n",
        "  for i, pred in enumerate(predictions):\n",
        "    kaggle_prediction.append({'custom_id': this_serie_name,\n",
        "                                   'year': 2020,\n",
        "                                  'month': i + 5,\n",
        "                              'volume_kg': pred})"
      ],
      "metadata": {
        "colab": {
          "base_uri": "https://localhost:8080/",
          "height": 49,
          "referenced_widgets": [
            "7da297ad709044688982f8905eaa79da",
            "67ab19ddc37d4a1d94fcc6808be78145",
            "4ccfd8538c5e4ed68ce92ad9592ffcd7",
            "1acd95ca765a4a66bf71599ad1641007",
            "28a8ff3f90634bba847d16f115869516",
            "7c1a7a2f8b2943aca634f6922072d97f",
            "862dae5f6ebd4d9083d14cf6d54473d2",
            "7c952b933b494811a8c089a81a5849fb",
            "5eb58006fdf64f37803afc8e73d9a21d",
            "8f2b2e73e23f401e9cf0d368d4a01b02",
            "50e2938588b8417196d0a4382a8cf091"
          ]
        },
        "id": "F4Ne7UrR5WNN",
        "outputId": "60c48d58-9609-4fe1-fe68-c80c8babcc52"
      },
      "execution_count": 32,
      "outputs": [
        {
          "output_type": "display_data",
          "data": {
            "text/plain": [
              "  0%|          | 0/48 [00:00<?, ?it/s]"
            ],
            "application/vnd.jupyter.widget-view+json": {
              "version_major": 2,
              "version_minor": 0,
              "model_id": "7da297ad709044688982f8905eaa79da"
            }
          },
          "metadata": {}
        }
      ]
    },
    {
      "cell_type": "code",
      "source": [
        "kaggle_prediction = parse_and_save_results(kaggle_prediction, 'submission_XGBoost', save=True)\n",
        "\n",
        "validation_gtrue = parse_and_save_results(validation_gtrue_list, '', save=False)\n",
        "valid_prediction = parse_and_save_results(valid_prediction_list, '', save=False)"
      ],
      "metadata": {
        "colab": {
          "base_uri": "https://localhost:8080/"
        },
        "id": "RrIHJnzvnXRQ",
        "outputId": "d6fb52a8-0908-4bdf-9458-b28343fb762c"
      },
      "execution_count": 33,
      "outputs": [
        {
          "output_type": "stream",
          "name": "stdout",
          "text": [
            ">> Saved submission_XGBoost.csv - shape: (192, 2) - ['id', 'volume_kg']\n"
          ]
        }
      ]
    },
    {
      "cell_type": "code",
      "source": [
        "## Metrics on Validation Set:\n",
        "\n",
        "kaggle_score = mape_score_function(solution = validation_gtrue,\n",
        "                                   submission = valid_prediction,\n",
        "                                   row_id_column_name = 'id')\n",
        "\n",
        "avg_mape = np.mean(mape_scores_list)\n",
        "\n",
        "print(f' >> kaggle_score: {kaggle_score:>.3f} | mape: {avg_mape:>.3f}')\n",
        "\n",
        "global_solution = solution_to_global(validation_gtrue, row_id_column_name='id')\n",
        "global_submission = solution_to_global(valid_prediction, row_id_column_name='id')\n",
        "\n",
        "global_mape = mean_absolute_percentage_error(global_solution.to_numpy(),\n",
        "                                             global_submission.to_numpy())\n",
        "\n",
        "mape = mean_absolute_percentage_error(validation_gtrue[\"volume_kg\"].to_numpy(),\n",
        "                                      valid_prediction[\"volume_kg\"].to_numpy())\n",
        "\n",
        "test_score = (3 * mape + global_mape) / 4\n",
        "\n",
        "print(f' >> kaggle_score: {test_score:>.3f} | mape: {mape:>.3f} | global_mape: {global_mape:>.3f}')\n",
        "\n",
        "# >> kaggle_score: 0.316 | mape: 0.400 | global_mape: 0.064"
      ],
      "metadata": {
        "colab": {
          "base_uri": "https://localhost:8080/"
        },
        "id": "7gafKkAPGpPg",
        "outputId": "78595b7d-8751-43f2-d954-1512917bf4a9"
      },
      "execution_count": 34,
      "outputs": [
        {
          "output_type": "stream",
          "name": "stdout",
          "text": [
            " >> kaggle_score: 0.303 | mape: 0.383\n",
            " >> kaggle_score: 0.303 | mape: 0.382 | global_mape: 0.067\n"
          ]
        }
      ]
    },
    {
      "cell_type": "code",
      "source": [
        "# >> kaggle_score: 0.303 | mape: 0.382 | global_mape: 0.067 >> d_day = 2017-09-01 >> Remove outliers\n",
        "# >> kaggle_score: 0.311 | mape: 0.392 | global_mape: 0.068 >> d_day = 2017-09-01 >> Fill outliers\n",
        "# >> kaggle_score: 0.312 | mape: 0.396 | global_mape: 0.062 >> d_day = 2018-04-01 >> Remove outliers\n",
        "# >> kaggle_score: 0.319 | mape: 0.404 | global_mape: 0.064 >> d_day = 2018-04-01 >> Fill outliers\n",
        "# >> kaggle_score: 0.338 | mape: 0.429 | global_mape: 0.066 >> d_day = 2018-04-01 >> Fill outliers >> Lag_1\n",
        "# >> kaggle_score: 0.354 | mape: 0.448 | global_mape: 0.069 >> d_day = 2019-04-01 >> Fill outliers\n",
        "# >> kaggle_score: 0.360 | mape: 0.457 | global_mape: 0.070 >> d_day = 2019-04-01 >> Remove outliers\n",
        "# >> kaggle_score: 0.368 | mape: 0.467 | global_mape: 0.071 >> d_day = 2019-04-01 >> Fill outliers >> Lag_2\n",
        "# >> kaggle_score: 0.371 | mape: 0.467 | global_mape: 0.081 >> d_day = 2019-04-01 >> Fill outliers >> Lag_1\n",
        "# >> kaggle_score: 0.370 | mape: 0.470 | global_mape: 0.070 >> d_day = 2019-04-01"
      ],
      "metadata": {
        "id": "KTwqX-qHM_hN"
      },
      "execution_count": 35,
      "outputs": []
    },
    {
      "cell_type": "code",
      "source": [
        "plt.figure(figsize=(6, 4))\n",
        "\n",
        "plt.plot(mape_scores_list, color = 'r')\n",
        "\n",
        "plt.axhline(np.mean(mape_scores_list), color='black', ls='--', alpha=0.34,label=f'avg = {np.mean(mape_scores_list):.3f}')\n",
        "\n",
        "#highlight_indices  = {tupla[1]: mape_scores_list[tupla[1]] for tupla in non_stationarity}\n",
        "#\n",
        "#for index in highlight_indices:\n",
        "#    plt.scatter(index, highlight_indices[index], color='green')\n",
        "\n",
        "\n",
        "plt.title(\"\\n Error across Time Series \\n\", fontsize=12)\n",
        "plt.xlabel('\\n Time Series \\n', fontsize=12)\n",
        "plt.ylabel('\\n MAPE \\n', fontsize=12)\n",
        "plt.legend()\n",
        "plt.grid('-', alpha=0.5)\n",
        "\n",
        "plt.gca().spines[['top', 'right',]].set_visible(False)\n",
        "\n",
        "plt.show()"
      ],
      "metadata": {
        "colab": {
          "base_uri": "https://localhost:8080/",
          "height": 497
        },
        "id": "s2gKgI5qIaK-",
        "outputId": "66e2d5fd-37a4-4727-d5ca-ef6b4a62974e"
      },
      "execution_count": 36,
      "outputs": [
        {
          "output_type": "display_data",
          "data": {
            "text/plain": [
              "<Figure size 600x400 with 1 Axes>"
            ],
            "image/png": "[encoded data removed]"
          },
          "metadata": {}
        }
      ]
    },
    {
      "cell_type": "code",
      "source": [
        "def get_prediction(valid_prediction, this_serie_name):\n",
        "\n",
        "  this_valid_pred = valid_prediction[valid_prediction['id'].str.contains(this_serie_name)]\n",
        "  this_valid_pred.loc[:, ['year']] = this_valid_pred['id'].str.split('_', expand=True)[[0, 1]][0]\n",
        "  this_valid_pred.loc[:, ['month']] = this_valid_pred['id'].str.split('_', expand=True)[[0, 1]][1]\n",
        "\n",
        "  this_valid_pred.loc[:,['date']] = pd.to_datetime(this_valid_pred[['year', 'month']].assign(day=1))\n",
        "\n",
        "  this_valid_pred = this_valid_pred.set_index('date')\n",
        "\n",
        "  return this_valid_pred"
      ],
      "metadata": {
        "id": "w5zIITsC22WF"
      },
      "execution_count": 37,
      "outputs": []
    },
    {
      "cell_type": "code",
      "source": [
        "serie_names = data['custom_id'].unique()\n",
        "\n",
        "for indx in tqdm(range(len(serie_names))):\n",
        "\n",
        "  this_serie_name = serie_names[indx]\n",
        "  this_serie = get_series(df_no_outliers, serie_index=indx)\n",
        "\n",
        "  this_valid_pred  = get_prediction(valid_prediction, this_serie_name)\n",
        "\n",
        "  prediction_plot(this_serie, this_valid_pred, this_serie_name, output_dir = 'plots')\n"
      ],
      "metadata": {
        "colab": {
          "base_uri": "https://localhost:8080/",
          "height": 49,
          "referenced_widgets": [
            "ce888697ec0d4d068ff3e02371a1bb6f",
            "1a25b21fdee64b9381e90d0cdbed0475",
            "47a1930cbc7148b3b745957dd08c8580",
            "69f69be7c06d41e0a02ea489554f6dfb",
            "d78fdc0058c64521a404d8f301ae93bc",
            "67da2e5a86f34e0eab4794b30796a699",
            "fb05491ec254407096292ef6d1ce6b97",
            "637c80261c7c42c9a253064ac6637515",
            "9d9002f468fc4ba4acd10d18928a4d5c",
            "6ed78518f74e41bbae076dd83ab7b962",
            "9d2b39e6aa9e43309810bcbc6745846d"
          ]
        },
        "id": "6rf52GQY3WLw",
        "outputId": "a6effb6a-080c-4946-8b02-6598d28a3394"
      },
      "execution_count": 38,
      "outputs": [
        {
          "output_type": "display_data",
          "data": {
            "text/plain": [
              "  0%|          | 0/48 [00:00<?, ?it/s]"
            ],
            "application/vnd.jupyter.widget-view+json": {
              "version_major": 2,
              "version_minor": 0,
              "model_id": "ce888697ec0d4d068ff3e02371a1bb6f"
            }
          },
          "metadata": {}
        }
      ]
    },
    {
      "cell_type": "code",
      "source": [
        "Image(filename=f'plots/{serie_names[4]}.png')"
      ],
      "metadata": {
        "colab": {
          "base_uri": "https://localhost:8080/",
          "height": 367
        },
        "id": "Ob5k0kB3LXp3",
        "outputId": "a134f9c1-df5d-4ab0-bd38-9344d11d2c2f"
      },
      "execution_count": 39,
      "outputs": [
        {
          "output_type": "execute_result",
          "data": {
            "image/png": "[encoded data removed]",
            "text/plain": [
              "<IPython.core.display.Image object>"
            ]
          },
          "metadata": {},
          "execution_count": 39
        }
      ]
    },
    {
      "cell_type": "code",
      "source": [
        "Image(filename=f'plots/{serie_names[30]}.png')"
      ],
      "metadata": {
        "id": "CyJSDe_CTF1K",
        "outputId": "c4df3b01-f4b3-4647-c69e-27b445117e8d",
        "colab": {
          "base_uri": "https://localhost:8080/",
          "height": 367
        }
      },
      "execution_count": 40,
      "outputs": [
        {
          "output_type": "execute_result",
          "data": {
            "image/png": "[encoded data removed]",
            "text/plain": [
              "<IPython.core.display.Image object>"
            ]
          },
          "metadata": {},
          "execution_count": 40
        }
      ]
    },
    {
      "cell_type": "code",
      "source": [
        "#! zip -r  -q /content/TimeSeries_plots.zip  plots/\n",
        "# files.download('/content/TimeSeries_plots.zip')"
      ],
      "metadata": {
        "id": "ikLpZaeiQJ-d"
      },
      "execution_count": 41,
      "outputs": []
    }
  ]
}